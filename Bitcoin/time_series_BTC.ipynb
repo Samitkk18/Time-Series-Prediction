{
 "cells": [
  {
   "cell_type": "markdown",
   "id": "fbd75c7d",
   "metadata": {},
   "source": [
    "# This Notebook is for Time Series Prediction for Bitcoin Prices"
   ]
  },
  {
   "cell_type": "markdown",
   "id": "1a67c341",
   "metadata": {},
   "source": [
    "# Dataset is taken from https://www.coindesk.com/price/bitcoin"
   ]
  },
  {
   "cell_type": "code",
   "execution_count": 1,
   "id": "cf7949ac",
   "metadata": {},
   "outputs": [],
   "source": [
    "#Importing Libraries\n",
    "import pandas as pd\n",
    "import matplotlib.pyplot as plt\n",
    "import numpy as np\n",
    "import tensorflow as tf\n",
    "from tensorflow.keras import layers\n",
    "import os\n",
    "from sklearn.preprocessing import minmax_scale"
   ]
  },
  {
   "cell_type": "code",
   "execution_count": 2,
   "id": "be451862",
   "metadata": {},
   "outputs": [
    {
     "data": {
      "text/html": [
       "<div>\n",
       "<style scoped>\n",
       "    .dataframe tbody tr th:only-of-type {\n",
       "        vertical-align: middle;\n",
       "    }\n",
       "\n",
       "    .dataframe tbody tr th {\n",
       "        vertical-align: top;\n",
       "    }\n",
       "\n",
       "    .dataframe thead th {\n",
       "        text-align: right;\n",
       "    }\n",
       "</style>\n",
       "<table border=\"1\" class=\"dataframe\">\n",
       "  <thead>\n",
       "    <tr style=\"text-align: right;\">\n",
       "      <th></th>\n",
       "      <th>Currency</th>\n",
       "      <th>Closing Price (USD)</th>\n",
       "      <th>24h Open (USD)</th>\n",
       "      <th>24h High (USD)</th>\n",
       "      <th>24h Low (USD)</th>\n",
       "    </tr>\n",
       "    <tr>\n",
       "      <th>Date</th>\n",
       "      <th></th>\n",
       "      <th></th>\n",
       "      <th></th>\n",
       "      <th></th>\n",
       "      <th></th>\n",
       "    </tr>\n",
       "  </thead>\n",
       "  <tbody>\n",
       "    <tr>\n",
       "      <th>2013-10-01</th>\n",
       "      <td>BTC</td>\n",
       "      <td>123.65499</td>\n",
       "      <td>124.30466</td>\n",
       "      <td>124.75166</td>\n",
       "      <td>122.56349</td>\n",
       "    </tr>\n",
       "    <tr>\n",
       "      <th>2013-10-02</th>\n",
       "      <td>BTC</td>\n",
       "      <td>125.45500</td>\n",
       "      <td>123.65499</td>\n",
       "      <td>125.75850</td>\n",
       "      <td>123.63383</td>\n",
       "    </tr>\n",
       "    <tr>\n",
       "      <th>2013-10-03</th>\n",
       "      <td>BTC</td>\n",
       "      <td>108.58483</td>\n",
       "      <td>125.45500</td>\n",
       "      <td>125.66566</td>\n",
       "      <td>83.32833</td>\n",
       "    </tr>\n",
       "    <tr>\n",
       "      <th>2013-10-04</th>\n",
       "      <td>BTC</td>\n",
       "      <td>118.67466</td>\n",
       "      <td>108.58483</td>\n",
       "      <td>118.67500</td>\n",
       "      <td>107.05816</td>\n",
       "    </tr>\n",
       "    <tr>\n",
       "      <th>2013-10-05</th>\n",
       "      <td>BTC</td>\n",
       "      <td>121.33866</td>\n",
       "      <td>118.67466</td>\n",
       "      <td>121.93633</td>\n",
       "      <td>118.00566</td>\n",
       "    </tr>\n",
       "  </tbody>\n",
       "</table>\n",
       "</div>"
      ],
      "text/plain": [
       "           Currency  Closing Price (USD)  24h Open (USD)  24h High (USD)  \\\n",
       "Date                                                                       \n",
       "2013-10-01      BTC            123.65499       124.30466       124.75166   \n",
       "2013-10-02      BTC            125.45500       123.65499       125.75850   \n",
       "2013-10-03      BTC            108.58483       125.45500       125.66566   \n",
       "2013-10-04      BTC            118.67466       108.58483       118.67500   \n",
       "2013-10-05      BTC            121.33866       118.67466       121.93633   \n",
       "\n",
       "            24h Low (USD)  \n",
       "Date                       \n",
       "2013-10-01      122.56349  \n",
       "2013-10-02      123.63383  \n",
       "2013-10-03       83.32833  \n",
       "2013-10-04      107.05816  \n",
       "2013-10-05      118.00566  "
      ]
     },
     "execution_count": 2,
     "metadata": {},
     "output_type": "execute_result"
    }
   ],
   "source": [
    "#Loading the Dataset\n",
    "#Tell pandas that the first column is datetime\n",
    "df = pd.read_csv('BTC_USD_2013-10-01_2021-06-02-CoinDesk.csv', parse_dates=['Date'], index_col=['Date']) \n",
    "df.head()"
   ]
  },
  {
   "cell_type": "code",
   "execution_count": 3,
   "id": "b177705f",
   "metadata": {},
   "outputs": [
    {
     "name": "stdout",
     "output_type": "stream",
     "text": [
      "<class 'pandas.core.frame.DataFrame'>\n",
      "DatetimeIndex: 2801 entries, 2013-10-01 to 2021-06-02\n",
      "Data columns (total 5 columns):\n",
      " #   Column               Non-Null Count  Dtype  \n",
      "---  ------               --------------  -----  \n",
      " 0   Currency             2801 non-null   object \n",
      " 1   Closing Price (USD)  2801 non-null   float64\n",
      " 2   24h Open (USD)       2801 non-null   float64\n",
      " 3   24h High (USD)       2801 non-null   float64\n",
      " 4   24h Low (USD)        2801 non-null   float64\n",
      "dtypes: float64(4), object(1)\n",
      "memory usage: 131.3+ KB\n"
     ]
    }
   ],
   "source": [
    "#Looking at more information\n",
    "df.info()"
   ]
  },
  {
   "cell_type": "code",
   "execution_count": 4,
   "id": "739b439e",
   "metadata": {},
   "outputs": [
    {
     "data": {
      "text/html": [
       "<div>\n",
       "<style scoped>\n",
       "    .dataframe tbody tr th:only-of-type {\n",
       "        vertical-align: middle;\n",
       "    }\n",
       "\n",
       "    .dataframe tbody tr th {\n",
       "        vertical-align: top;\n",
       "    }\n",
       "\n",
       "    .dataframe thead th {\n",
       "        text-align: right;\n",
       "    }\n",
       "</style>\n",
       "<table border=\"1\" class=\"dataframe\">\n",
       "  <thead>\n",
       "    <tr style=\"text-align: right;\">\n",
       "      <th></th>\n",
       "      <th>Price</th>\n",
       "    </tr>\n",
       "    <tr>\n",
       "      <th>Date</th>\n",
       "      <th></th>\n",
       "    </tr>\n",
       "  </thead>\n",
       "  <tbody>\n",
       "    <tr>\n",
       "      <th>2013-10-01</th>\n",
       "      <td>123.65499</td>\n",
       "    </tr>\n",
       "    <tr>\n",
       "      <th>2013-10-02</th>\n",
       "      <td>125.45500</td>\n",
       "    </tr>\n",
       "    <tr>\n",
       "      <th>2013-10-03</th>\n",
       "      <td>108.58483</td>\n",
       "    </tr>\n",
       "    <tr>\n",
       "      <th>2013-10-04</th>\n",
       "      <td>118.67466</td>\n",
       "    </tr>\n",
       "    <tr>\n",
       "      <th>2013-10-05</th>\n",
       "      <td>121.33866</td>\n",
       "    </tr>\n",
       "  </tbody>\n",
       "</table>\n",
       "</div>"
      ],
      "text/plain": [
       "                Price\n",
       "Date                 \n",
       "2013-10-01  123.65499\n",
       "2013-10-02  125.45500\n",
       "2013-10-03  108.58483\n",
       "2013-10-04  118.67466\n",
       "2013-10-05  121.33866"
      ]
     },
     "execution_count": 4,
     "metadata": {},
     "output_type": "execute_result"
    }
   ],
   "source": [
    "#Getting only the closing prices for everyday\n",
    "bitcoin_prices = pd.DataFrame(df['Closing Price (USD)']).rename(columns={'Closing Price (USD)': 'Price'})\n",
    "bitcoin_prices.head()"
   ]
  },
  {
   "cell_type": "code",
   "execution_count": 5,
   "id": "cc3a8a5f",
   "metadata": {},
   "outputs": [
    {
     "data": {
      "image/png": "[encoded data removed]",
      "text/plain": [
       "<Figure size 720x504 with 1 Axes>"
      ]
     },
     "metadata": {
      "needs_background": "light"
     },
     "output_type": "display_data"
    }
   ],
   "source": [
    "#Plotting all the prices to get a better look\n",
    "bitcoin_prices.plot(figsize=(10,7))\n",
    "plt.ylabel(\"BTC Price\")\n",
    "plt.title(\"Price of Bitcoin from 1 Oct 2013 to 02 Jun 2021\", fontsize=16)\n",
    "plt.legend(fontsize=14);"
   ]
  },
  {
   "cell_type": "code",
   "execution_count": 130,
   "id": "d8d8147b",
   "metadata": {},
   "outputs": [
    {
     "data": {
      "text/plain": [
       "([datetime.datetime(2013, 10, 1, 0, 0),\n",
       "  datetime.datetime(2013, 10, 2, 0, 0),\n",
       "  datetime.datetime(2013, 10, 3, 0, 0),\n",
       "  datetime.datetime(2013, 10, 4, 0, 0),\n",
       "  datetime.datetime(2013, 10, 5, 0, 0),\n",
       "  datetime.datetime(2013, 10, 6, 0, 0),\n",
       "  datetime.datetime(2013, 10, 7, 0, 0),\n",
       "  datetime.datetime(2013, 10, 8, 0, 0),\n",
       "  datetime.datetime(2013, 10, 9, 0, 0),\n",
       "  datetime.datetime(2013, 10, 10, 0, 0)],\n",
       " [123.65499,\n",
       "  125.455,\n",
       "  108.58483,\n",
       "  118.67466,\n",
       "  121.33866,\n",
       "  120.65533,\n",
       "  121.795,\n",
       "  123.033,\n",
       "  124.049,\n",
       "  125.96116])"
      ]
     },
     "execution_count": 130,
     "metadata": {},
     "output_type": "execute_result"
    }
   ],
   "source": [
    "# Importing and formatting historical Bitcoin data with Python\n",
    "import csv\n",
    "from datetime import datetime\n",
    "\n",
    "timesteps = []\n",
    "btc_price = []\n",
    "with open(\"BTC_USD_2013-10-01_2021-06-02-CoinDesk.csv\", \"r\") as f:\n",
    "    csv_reader = csv.reader(f, delimiter=\",\") # read in the target CSV\n",
    "    next(csv_reader) # skip first line (this gets rid of the column titles)\n",
    "    for line in csv_reader:\n",
    "        timesteps.append(datetime.strptime(line[1], \"%Y-%m-%d\")) # get the dates as dates (not strings), strptime = string parse time\n",
    "        btc_price.append(float(line[2])) # get the closing price as float\n",
    "\n",
    "# View first 10 of each\n",
    "timesteps[:10], btc_price[:10]"
   ]
  },
  {
   "cell_type": "code",
   "execution_count": 6,
   "id": "84e506f3",
   "metadata": {},
   "outputs": [
    {
     "data": {
      "text/plain": [
       "(array(['2013-10-01T00:00:00.000000000', '2013-10-02T00:00:00.000000000',\n",
       "        '2013-10-03T00:00:00.000000000', '2013-10-04T00:00:00.000000000',\n",
       "        '2013-10-05T00:00:00.000000000', '2013-10-06T00:00:00.000000000',\n",
       "        '2013-10-07T00:00:00.000000000', '2013-10-08T00:00:00.000000000',\n",
       "        '2013-10-09T00:00:00.000000000', '2013-10-10T00:00:00.000000000'],\n",
       "       dtype='datetime64[ns]'),\n",
       " array([123.65499, 125.455  , 108.58483, 118.67466, 121.33866, 120.65533,\n",
       "        121.795  , 123.033  , 124.049  , 125.96116]))"
      ]
     },
     "execution_count": 6,
     "metadata": {},
     "output_type": "execute_result"
    }
   ],
   "source": [
    "# Get bitcoin date array\n",
    "timesteps = bitcoin_prices.index.to_numpy()\n",
    "prices = bitcoin_prices[\"Price\"].to_numpy()\n",
    "\n",
    "timesteps[:10], prices[:10]"
   ]
  },
  {
   "cell_type": "code",
   "execution_count": 7,
   "id": "1445de5d",
   "metadata": {},
   "outputs": [],
   "source": [
    "#Splitting the Dataset into Train and Test set\n",
    "#In Time-seires problems splitting the dataset the normal way, which is randomly selecting 80-20 split is wrong!\n",
    "#We aim to train our model on past data and hope it works on the artificial future data\n",
    "#Thus splitting the dataset the orthodox way makes no sense\n",
    "#Instead we create the training set as the first 80% samples and the Test set as the remaining 20% as follows\n",
    "\n",
    "\n",
    "split_size = int(0.8 * len(prices)) # 80% train, 20% test\n",
    "\n",
    "#Create train data splits\n",
    "X_train, y_train = timesteps[:split_size], prices[:split_size]\n",
    "\n",
    "#Create Test data splits\n",
    "X_test, y_test = timesteps[split_size:], prices[split_size:]"
   ]
  },
  {
   "cell_type": "code",
   "execution_count": 8,
   "id": "fa7b12f4",
   "metadata": {},
   "outputs": [
    {
     "data": {
      "image/png": "[encoded data removed]",
      "text/plain": [
       "<Figure size 720x504 with 1 Axes>"
      ]
     },
     "metadata": {
      "needs_background": "light"
     },
     "output_type": "display_data"
    }
   ],
   "source": [
    "#Plotting the splits\n",
    "plt.figure(figsize=(10,7))\n",
    "plt.scatter(X_train, y_train, s=5, label='Train Data')\n",
    "plt.scatter(X_test, y_test, s=5, label='Test Data')\n",
    "plt.xlabel(\"Time\")\n",
    "plt.ylabel(\"BTC Price\")\n",
    "plt.legend(fontsize=14);\n",
    "plt.show()"
   ]
  },
  {
   "cell_type": "code",
   "execution_count": 9,
   "id": "fd5ee040",
   "metadata": {},
   "outputs": [],
   "source": [
    "#Creating a plotting fucntion\n",
    "def plot_time_series(timesteps, values, format='.', start=0, end=None, label=None):\n",
    "    \n",
    "    plt.plot(timesteps[start:end], values[start:end], format, label=label)\n",
    "    plt.xlabel(\"Time\")\n",
    "    plt.ylabel(\"BTC Price\")\n",
    "    if label:\n",
    "        plt.legend(fontsize=14);\n",
    "    plt.grid(True)"
   ]
  },
  {
   "cell_type": "markdown",
   "id": "991e5e0d",
   "metadata": {},
   "source": [
    "Naive Model (Baseline)"
   ]
  },
  {
   "cell_type": "code",
   "execution_count": 10,
   "id": "51681bc0",
   "metadata": {},
   "outputs": [
    {
     "data": {
      "text/plain": [
       "array([8118.4885358 , 8074.84317361, 7612.7405735 , 7262.11053495,\n",
       "       7303.40575852, 7041.73293642, 7211.86180875, 7141.06944869,\n",
       "       7523.4806726 , 7390.20746923])"
      ]
     },
     "execution_count": 10,
     "metadata": {},
     "output_type": "execute_result"
    }
   ],
   "source": [
    "#creating a naive forecast\n",
    "naive_forecast = y_test[:-1]\n",
    "naive_forecast[:10]"
   ]
  },
  {
   "cell_type": "code",
   "execution_count": 11,
   "id": "a71f8dba",
   "metadata": {},
   "outputs": [
    {
     "data": {
      "image/png": "[encoded data removed]",
      "text/plain": [
       "<Figure size 720x504 with 1 Axes>"
      ]
     },
     "metadata": {
      "needs_background": "light"
     },
     "output_type": "display_data"
    }
   ],
   "source": [
    "#Plotting the naive Forecast\n",
    "plt.figure(figsize=(10,7))\n",
    "plot_time_series(timesteps=X_train, values=y_train, format=\".\", label='Training Data')\n",
    "plot_time_series(timesteps=X_test, values=y_test, format=\".\",  label='Test Data')\n",
    "plot_time_series(timesteps=X_test[1:], values=naive_forecast,format=\"-\", label='Naive Forecast')"
   ]
  },
  {
   "cell_type": "code",
   "execution_count": 12,
   "id": "823aa067",
   "metadata": {},
   "outputs": [
    {
     "data": {
      "image/png": "[encoded data removed]",
      "text/plain": [
       "<Figure size 720x504 with 1 Axes>"
      ]
     },
     "metadata": {
      "needs_background": "light"
     },
     "output_type": "display_data"
    }
   ],
   "source": [
    "#zooming in on the test and naive forecast\n",
    "plt.figure(figsize=(10,7))\n",
    "offset=250\n",
    "plot_time_series(timesteps=X_test, values=y_test, format=\".\", start=offset, label='Test Data')\n",
    "plot_time_series(timesteps=X_test[1:], values=naive_forecast,format=\"-\", start=offset, label='Naive Forecast')"
   ]
  },
  {
   "cell_type": "code",
   "execution_count": 13,
   "id": "fde4940a",
   "metadata": {},
   "outputs": [],
   "source": [
    "#Code snippet for MASE \n",
    "\n",
    "def mean_absolute_scaled_error(y_true, y_pred):\n",
    "    #Implement MASE (assuming no seasonality of data)\n",
    "    mae = tf.reduce_mean(tf.abs(y_true - y_pred))\n",
    "    \n",
    "    # Find MAE of naive forecast (no seasonality)\n",
    "    mae_naive_no_season = tf.reduce_mean(tf.abs(y_true[1:] - y_true[:-1]))\n",
    "    return mae / mae_naive_no_season"
   ]
  },
  {
   "cell_type": "code",
   "execution_count": 14,
   "id": "90c88f09",
   "metadata": {},
   "outputs": [],
   "source": [
    "def evaluate_preds(y_true, y_pred):\n",
    "    y_true = tf.cast(y_true, dtype=tf.float32)\n",
    "    y_pred = tf.cast(y_pred, dtype=tf.float32)\n",
    "    \n",
    "    #Calculate different evaluation metrics\n",
    "    mae = tf.keras.metrics.mean_absolute_error(y_true, y_pred)\n",
    "    mse = tf.keras.metrics.mean_squared_error(y_true, y_pred)\n",
    "    rmse = tf.sqrt(mse)\n",
    "    mape = tf.keras.metrics.mean_absolute_percentage_error(y_true, y_pred)\n",
    "    mase = mean_absolute_scaled_error(y_true, y_pred)\n",
    "    \n",
    "    # Account for different sized metrics (for longer horizons, reduce to single number)\n",
    "    if mae.ndim > 0:\n",
    "        # if mae isn't already a scalar, reduce it to one by aggregating tensors to mean\n",
    "        mae = tf.reduce_mean(mae)\n",
    "        mse = tf.reduce_mean(mse)\n",
    "        rmse = tf.reduce_mean(rmse)\n",
    "        mape = tf.reduce_mean(mape)\n",
    "        mase = tf.reduce_mean(mase)\n",
    "\n",
    "    return {'mae': mae.numpy(),\n",
    "           'mse': mse.numpy(),\n",
    "           'rmse': rmse.numpy(),\n",
    "           'mape': mape.numpy(),\n",
    "            'mase': mase.numpy()}"
   ]
  },
  {
   "cell_type": "code",
   "execution_count": 15,
   "id": "95866f8e",
   "metadata": {},
   "outputs": [
    {
     "data": {
      "text/plain": [
       "{'mae': 602.0485,\n",
       " 'mse': 1258207.5,\n",
       " 'rmse': 1121.6985,\n",
       " 'mape': 2.5736644,\n",
       " 'mase': 0.99834347}"
      ]
     },
     "execution_count": 15,
     "metadata": {},
     "output_type": "execute_result"
    }
   ],
   "source": [
    "naive_results = evaluate_preds(y_true=y_test[1:], y_pred=naive_forecast)\n",
    "naive_results"
   ]
  },
  {
   "cell_type": "code",
   "execution_count": 16,
   "id": "31f6ed67",
   "metadata": {},
   "outputs": [],
   "source": [
    "HORIZON = 1 # predict 1 step at a time\n",
    "WINDOW_SIZE = 7 # use a week worth of timesteps to predict the horizon"
   ]
  },
  {
   "cell_type": "code",
   "execution_count": 17,
   "id": "8fe98db9",
   "metadata": {},
   "outputs": [],
   "source": [
    "#Function to label windowed data\n",
    "def get_labelled_windows(x, horizon=1):\n",
    "    # example Input: [1,2,3,4,5,6] -> output: ([1,2,3,4,5], [6])\n",
    "    return x[:, :-horizon], x[:, -horizon:]"
   ]
  },
  {
   "cell_type": "code",
   "execution_count": 18,
   "id": "5c9cd905",
   "metadata": {},
   "outputs": [],
   "source": [
    "#function to view numpy arrays as windows\n",
    "def make_windows(x, window_size=7, horizon=1):\n",
    "    #Turns a 1D array into a 2D array of sequential windows of window_size.\n",
    "    window_step = np.expand_dims(np.arange(window_size+horizon), axis=0) # create 2D array of window_size\n",
    "    window_indexes = window_step + np.expand_dims(np.arange(len(x)-(window_size+horizon-1)), axis=0).T # create 2D array of windows of size window_size\n",
    "    windowed_array = x[window_indexes] # get the original array indexed with windows\n",
    "    windows, labels = get_labelled_windows(windowed_array, horizon=horizon)\n",
    "    return windows, labels"
   ]
  },
  {
   "cell_type": "code",
   "execution_count": 19,
   "id": "6b7e0e46",
   "metadata": {},
   "outputs": [
    {
     "data": {
      "text/plain": [
       "(2794, 2794)"
      ]
     },
     "execution_count": 19,
     "metadata": {},
     "output_type": "execute_result"
    }
   ],
   "source": [
    "full_windows, full_labels = make_windows(prices, window_size=WINDOW_SIZE, horizon=HORIZON)\n",
    "len(full_windows), len(full_labels)"
   ]
  },
  {
   "cell_type": "code",
   "execution_count": 20,
   "id": "5e367d97",
   "metadata": {},
   "outputs": [],
   "source": [
    "# Making the train/test splits\n",
    "def make_train_test_splits(windows, labels, test_split=0.2):\n",
    "    split_size = int(len(windows) * (1-test_split))\n",
    "    train_windows = windows[:split_size]\n",
    "    train_labels = labels[:split_size]\n",
    "    test_windows = windows[split_size:]\n",
    "    test_labels = labels[split_size:]\n",
    "    return train_windows, test_windows, train_labels, test_labels"
   ]
  },
  {
   "cell_type": "code",
   "execution_count": 21,
   "id": "5fac0941",
   "metadata": {},
   "outputs": [
    {
     "data": {
      "text/plain": [
       "(2235, 559, 2235, 559)"
      ]
     },
     "execution_count": 21,
     "metadata": {},
     "output_type": "execute_result"
    }
   ],
   "source": [
    "train_windows, test_windows, train_labels, test_labels = make_train_test_splits(full_windows, full_labels)\n",
    "len(train_windows), len(test_windows), len(train_labels), len(test_labels)"
   ]
  },
  {
   "cell_type": "code",
   "execution_count": 22,
   "id": "7f69c6f5",
   "metadata": {},
   "outputs": [
    {
     "data": {
      "text/plain": [
       "(array([[123.65499, 125.455  , 108.58483, 118.67466, 121.33866, 120.65533,\n",
       "         121.795  ],\n",
       "        [125.455  , 108.58483, 118.67466, 121.33866, 120.65533, 121.795  ,\n",
       "         123.033  ],\n",
       "        [108.58483, 118.67466, 121.33866, 120.65533, 121.795  , 123.033  ,\n",
       "         124.049  ],\n",
       "        [118.67466, 121.33866, 120.65533, 121.795  , 123.033  , 124.049  ,\n",
       "         125.96116],\n",
       "        [121.33866, 120.65533, 121.795  , 123.033  , 124.049  , 125.96116,\n",
       "         125.27966]]),\n",
       " array([[123.033  ],\n",
       "        [124.049  ],\n",
       "        [125.96116],\n",
       "        [125.27966],\n",
       "        [125.9275 ]]))"
      ]
     },
     "execution_count": 22,
     "metadata": {},
     "output_type": "execute_result"
    }
   ],
   "source": [
    "train_windows[:5], train_labels[:5]"
   ]
  },
  {
   "cell_type": "code",
   "execution_count": 23,
   "id": "ff884e03",
   "metadata": {},
   "outputs": [],
   "source": [
    "#saving our best results\n",
    "def create_model_checkpoint(model_name, save_path=\"model_experiments\"):\n",
    "      return tf.keras.callbacks.ModelCheckpoint(filepath=os.path.join(save_path, model_name),\n",
    "                                            verbose=0,\n",
    "                                            save_best_only=True)"
   ]
  },
  {
   "cell_type": "code",
   "execution_count": 24,
   "id": "bad43974",
   "metadata": {},
   "outputs": [
    {
     "data": {
      "text/plain": [
       "(2235, 559, 2794)"
      ]
     },
     "execution_count": 24,
     "metadata": {},
     "output_type": "execute_result"
    }
   ],
   "source": [
    "len(train_windows), len(test_windows), len(full_windows)"
   ]
  },
  {
   "cell_type": "code",
   "execution_count": 25,
   "id": "82407b85",
   "metadata": {},
   "outputs": [
    {
     "name": "stdout",
     "output_type": "stream",
     "text": [
      "INFO:tensorflow:Assets written to: model_experiments/model_1_dense/assets\n",
      "INFO:tensorflow:Assets written to: model_experiments/model_1_dense/assets\n",
      "INFO:tensorflow:Assets written to: model_experiments/model_1_dense/assets\n",
      "INFO:tensorflow:Assets written to: model_experiments/model_1_dense/assets\n",
      "INFO:tensorflow:Assets written to: model_experiments/model_1_dense/assets\n",
      "INFO:tensorflow:Assets written to: model_experiments/model_1_dense/assets\n",
      "INFO:tensorflow:Assets written to: model_experiments/model_1_dense/assets\n",
      "INFO:tensorflow:Assets written to: model_experiments/model_1_dense/assets\n",
      "INFO:tensorflow:Assets written to: model_experiments/model_1_dense/assets\n",
      "INFO:tensorflow:Assets written to: model_experiments/model_1_dense/assets\n",
      "INFO:tensorflow:Assets written to: model_experiments/model_1_dense/assets\n",
      "INFO:tensorflow:Assets written to: model_experiments/model_1_dense/assets\n",
      "INFO:tensorflow:Assets written to: model_experiments/model_1_dense/assets\n",
      "INFO:tensorflow:Assets written to: model_experiments/model_1_dense/assets\n",
      "INFO:tensorflow:Assets written to: model_experiments/model_1_dense/assets\n",
      "INFO:tensorflow:Assets written to: model_experiments/model_1_dense/assets\n",
      "INFO:tensorflow:Assets written to: model_experiments/model_1_dense/assets\n",
      "INFO:tensorflow:Assets written to: model_experiments/model_1_dense/assets\n",
      "INFO:tensorflow:Assets written to: model_experiments/model_1_dense/assets\n",
      "INFO:tensorflow:Assets written to: model_experiments/model_1_dense/assets\n",
      "INFO:tensorflow:Assets written to: model_experiments/model_1_dense/assets\n",
      "INFO:tensorflow:Assets written to: model_experiments/model_1_dense/assets\n",
      "INFO:tensorflow:Assets written to: model_experiments/model_1_dense/assets\n",
      "INFO:tensorflow:Assets written to: model_experiments/model_1_dense/assets\n",
      "INFO:tensorflow:Assets written to: model_experiments/model_1_dense/assets\n",
      "INFO:tensorflow:Assets written to: model_experiments/model_1_dense/assets\n",
      "INFO:tensorflow:Assets written to: model_experiments/model_1_dense/assets\n",
      "INFO:tensorflow:Assets written to: model_experiments/model_1_dense/assets\n"
     ]
    },
    {
     "data": {
      "text/plain": [
       "<tensorflow.python.keras.callbacks.History at 0x15a313c40>"
      ]
     },
     "execution_count": 25,
     "metadata": {},
     "output_type": "execute_result"
    }
   ],
   "source": [
    "tf.random.set_seed(42)\n",
    "\n",
    "model_1 = tf.keras.Sequential([\n",
    "    layers.Dense(128, activation='relu'),\n",
    "    layers.Dense(HORIZON)\n",
    "], name='model_1_dense')\n",
    "\n",
    "model_1.compile(loss='mae', optimizer=tf.keras.optimizers.Adam())\n",
    "\n",
    "model_1.fit(x=train_windows, y=train_labels, epochs=100, verbose=0, batch_size=128, \n",
    "            validation_data=(test_windows, test_labels),\n",
    "            callbacks=[create_model_checkpoint(model_name=model_1.name)])"
   ]
  },
  {
   "cell_type": "code",
   "execution_count": 26,
   "id": "46c83153",
   "metadata": {},
   "outputs": [
    {
     "name": "stdout",
     "output_type": "stream",
     "text": [
      "18/18 [==============================] - 0s 2ms/step - loss: 608.9508\n"
     ]
    },
    {
     "data": {
      "text/plain": [
       "608.9508056640625"
      ]
     },
     "execution_count": 26,
     "metadata": {},
     "output_type": "execute_result"
    }
   ],
   "source": [
    "model_1 = tf.keras.models.load_model(\"model_experiments/model_1_dense\")\n",
    "#Evaluating model1\n",
    "model_1.evaluate(test_windows, test_labels)"
   ]
  },
  {
   "cell_type": "code",
   "execution_count": 27,
   "id": "52d04e11",
   "metadata": {},
   "outputs": [],
   "source": [
    "#funstion for making forecast\n",
    "def make_forecast(model, input_data):\n",
    "    \n",
    "    forecast = model.predict(input_data)\n",
    "    return tf.squeeze(forecast)"
   ]
  },
  {
   "cell_type": "code",
   "execution_count": 28,
   "id": "d57264b0",
   "metadata": {},
   "outputs": [
    {
     "data": {
      "text/plain": [
       "559"
      ]
     },
     "execution_count": 28,
     "metadata": {},
     "output_type": "execute_result"
    }
   ],
   "source": [
    "model_1_preds = tf.squeeze(model_1.predict(test_windows))\n",
    "len(model_1_preds)"
   ]
  },
  {
   "cell_type": "code",
   "execution_count": 29,
   "id": "ca4c659e",
   "metadata": {},
   "outputs": [
    {
     "data": {
      "text/plain": [
       "{'mae': 608.951,\n",
       " 'mse': 1288094.1,\n",
       " 'rmse': 1134.9424,\n",
       " 'mape': 2.6230147,\n",
       " 'mase': 1.0093668}"
      ]
     },
     "execution_count": 29,
     "metadata": {},
     "output_type": "execute_result"
    }
   ],
   "source": [
    "model_1_results = evaluate_preds(y_true=tf.squeeze(test_labels), y_pred=model_1_preds)\n",
    "model_1_results"
   ]
  },
  {
   "cell_type": "code",
   "execution_count": 30,
   "id": "1935e463",
   "metadata": {},
   "outputs": [
    {
     "data": {
      "image/png": "[encoded data removed]",
      "text/plain": [
       "<Figure size 720x504 with 1 Axes>"
      ]
     },
     "metadata": {
      "needs_background": "light"
     },
     "output_type": "display_data"
    }
   ],
   "source": [
    "#Plotting model_1 results\n",
    "offset = 300\n",
    "plt.figure(figsize=(10,7))\n",
    "plot_time_series(timesteps=X_test[-len(test_windows):], values=test_labels[:, 0],format='.', start=offset, label='Test Data')\n",
    "plot_time_series(timesteps=X_test[-len(test_windows):], values=model_1_preds,format='-', start=offset, label='Model 1 Prediction')\n"
   ]
  },
  {
   "cell_type": "code",
   "execution_count": 31,
   "id": "4b558bbc",
   "metadata": {},
   "outputs": [],
   "source": [
    "HORIZON = 1 # predict 1 step at a time\n",
    "WINDOW_SIZE = 30 # use a 30 days worth of timesteps to predict the horizon"
   ]
  },
  {
   "cell_type": "code",
   "execution_count": 32,
   "id": "b9cc8bf6",
   "metadata": {},
   "outputs": [
    {
     "data": {
      "text/plain": [
       "(2771, 2771)"
      ]
     },
     "execution_count": 32,
     "metadata": {},
     "output_type": "execute_result"
    }
   ],
   "source": [
    "full_windows, full_labels = make_windows(prices, window_size=WINDOW_SIZE, horizon=HORIZON)\n",
    "len(full_windows), len(full_labels)"
   ]
  },
  {
   "cell_type": "code",
   "execution_count": 33,
   "id": "9cc7e056",
   "metadata": {},
   "outputs": [
    {
     "data": {
      "text/plain": [
       "(2216, 555, 2216, 555)"
      ]
     },
     "execution_count": 33,
     "metadata": {},
     "output_type": "execute_result"
    }
   ],
   "source": [
    "#making train and test splits\n",
    "train_windows, test_windows, train_labels, test_labels = make_train_test_splits(full_windows, full_labels)\n",
    "len(train_windows), len(test_windows), len(train_labels), len(test_labels)"
   ]
  },
  {
   "cell_type": "code",
   "execution_count": 34,
   "id": "e34fecf2",
   "metadata": {},
   "outputs": [
    {
     "name": "stdout",
     "output_type": "stream",
     "text": [
      "INFO:tensorflow:Assets written to: model_experiments/model_2_dense/assets\n",
      "INFO:tensorflow:Assets written to: model_experiments/model_2_dense/assets\n",
      "INFO:tensorflow:Assets written to: model_experiments/model_2_dense/assets\n",
      "INFO:tensorflow:Assets written to: model_experiments/model_2_dense/assets\n",
      "INFO:tensorflow:Assets written to: model_experiments/model_2_dense/assets\n",
      "INFO:tensorflow:Assets written to: model_experiments/model_2_dense/assets\n",
      "INFO:tensorflow:Assets written to: model_experiments/model_2_dense/assets\n",
      "INFO:tensorflow:Assets written to: model_experiments/model_2_dense/assets\n",
      "INFO:tensorflow:Assets written to: model_experiments/model_2_dense/assets\n",
      "INFO:tensorflow:Assets written to: model_experiments/model_2_dense/assets\n",
      "INFO:tensorflow:Assets written to: model_experiments/model_2_dense/assets\n",
      "INFO:tensorflow:Assets written to: model_experiments/model_2_dense/assets\n",
      "INFO:tensorflow:Assets written to: model_experiments/model_2_dense/assets\n",
      "INFO:tensorflow:Assets written to: model_experiments/model_2_dense/assets\n",
      "INFO:tensorflow:Assets written to: model_experiments/model_2_dense/assets\n",
      "INFO:tensorflow:Assets written to: model_experiments/model_2_dense/assets\n",
      "INFO:tensorflow:Assets written to: model_experiments/model_2_dense/assets\n",
      "INFO:tensorflow:Assets written to: model_experiments/model_2_dense/assets\n",
      "INFO:tensorflow:Assets written to: model_experiments/model_2_dense/assets\n",
      "INFO:tensorflow:Assets written to: model_experiments/model_2_dense/assets\n",
      "INFO:tensorflow:Assets written to: model_experiments/model_2_dense/assets\n",
      "INFO:tensorflow:Assets written to: model_experiments/model_2_dense/assets\n",
      "INFO:tensorflow:Assets written to: model_experiments/model_2_dense/assets\n",
      "INFO:tensorflow:Assets written to: model_experiments/model_2_dense/assets\n",
      "INFO:tensorflow:Assets written to: model_experiments/model_2_dense/assets\n",
      "INFO:tensorflow:Assets written to: model_experiments/model_2_dense/assets\n",
      "INFO:tensorflow:Assets written to: model_experiments/model_2_dense/assets\n",
      "INFO:tensorflow:Assets written to: model_experiments/model_2_dense/assets\n",
      "INFO:tensorflow:Assets written to: model_experiments/model_2_dense/assets\n",
      "INFO:tensorflow:Assets written to: model_experiments/model_2_dense/assets\n",
      "INFO:tensorflow:Assets written to: model_experiments/model_2_dense/assets\n",
      "INFO:tensorflow:Assets written to: model_experiments/model_2_dense/assets\n",
      "INFO:tensorflow:Assets written to: model_experiments/model_2_dense/assets\n",
      "INFO:tensorflow:Assets written to: model_experiments/model_2_dense/assets\n",
      "INFO:tensorflow:Assets written to: model_experiments/model_2_dense/assets\n",
      "INFO:tensorflow:Assets written to: model_experiments/model_2_dense/assets\n"
     ]
    },
    {
     "data": {
      "text/plain": [
       "<tensorflow.python.keras.callbacks.History at 0x15ae0f2b0>"
      ]
     },
     "execution_count": 34,
     "metadata": {},
     "output_type": "execute_result"
    }
   ],
   "source": [
    "model_2 = tf.keras.Sequential([\n",
    "    layers.Dense(128, activation='relu'),\n",
    "    layers.Dense(HORIZON)\n",
    "], name='model_2_dense')\n",
    "\n",
    "model_2.compile(loss='mae', optimizer=tf.keras.optimizers.Adam())\n",
    "\n",
    "model_2.fit(x=train_windows, y=train_labels, epochs=100, verbose=0, batch_size=128, \n",
    "            validation_data=(test_windows, test_labels),\n",
    "            callbacks=[create_model_checkpoint(model_name=model_2.name)])"
   ]
  },
  {
   "cell_type": "code",
   "execution_count": 35,
   "id": "58b01498",
   "metadata": {},
   "outputs": [
    {
     "name": "stdout",
     "output_type": "stream",
     "text": [
      "18/18 [==============================] - 0s 791us/step - loss: 643.7311\n"
     ]
    },
    {
     "data": {
      "text/plain": [
       "643.7311401367188"
      ]
     },
     "execution_count": 35,
     "metadata": {},
     "output_type": "execute_result"
    }
   ],
   "source": [
    "model_2 = tf.keras.models.load_model(\"model_experiments/model_2_dense\")\n",
    "#Evaluating model1\n",
    "model_2.evaluate(test_windows, test_labels)"
   ]
  },
  {
   "cell_type": "code",
   "execution_count": 36,
   "id": "18ad7a13",
   "metadata": {},
   "outputs": [],
   "source": [
    "# Get forecast predictions\n",
    "model_2_preds = make_forecast(model_2, input_data=test_windows)"
   ]
  },
  {
   "cell_type": "code",
   "execution_count": 37,
   "id": "03c1db8d",
   "metadata": {},
   "outputs": [
    {
     "data": {
      "text/plain": [
       "{'mae': 643.73114,\n",
       " 'mse': 1403219.4,\n",
       " 'rmse': 1184.5756,\n",
       " 'mape': 2.7877293,\n",
       " 'mase': 1.0619661}"
      ]
     },
     "execution_count": 37,
     "metadata": {},
     "output_type": "execute_result"
    }
   ],
   "source": [
    "model_2_results = evaluate_preds(y_true=tf.squeeze(test_labels), y_pred=model_2_preds)\n",
    "model_2_results"
   ]
  },
  {
   "cell_type": "code",
   "execution_count": 38,
   "id": "9a0bf767",
   "metadata": {},
   "outputs": [
    {
     "data": {
      "image/png": "[encoded data removed]",
      "text/plain": [
       "<Figure size 720x504 with 1 Axes>"
      ]
     },
     "metadata": {
      "needs_background": "light"
     },
     "output_type": "display_data"
    }
   ],
   "source": [
    "#Plotting model_1 results\n",
    "offset = 300\n",
    "plt.figure(figsize=(10,7))\n",
    "plot_time_series(timesteps=X_test[-len(test_windows):], values=test_labels[:, 0],format='.', start=offset, label='Test Data')\n",
    "plot_time_series(timesteps=X_test[-len(test_windows):], values=model_2_preds,format='-', start=offset, label='Model 2 Prediction')\n"
   ]
  },
  {
   "cell_type": "markdown",
   "id": "4e0726b7",
   "metadata": {},
   "source": [
    "Model 3 - Dense model with horizon = 7 and Windows = 30"
   ]
  },
  {
   "cell_type": "code",
   "execution_count": 39,
   "id": "8a19d095",
   "metadata": {},
   "outputs": [],
   "source": [
    "HORIZON = 7 # predict 7 step at a time\n",
    "WINDOW_SIZE = 30 # use a 30 days worth of timesteps to predict the horizon"
   ]
  },
  {
   "cell_type": "code",
   "execution_count": 40,
   "id": "f187cb6f",
   "metadata": {},
   "outputs": [
    {
     "data": {
      "text/plain": [
       "(2765, 2765)"
      ]
     },
     "execution_count": 40,
     "metadata": {},
     "output_type": "execute_result"
    }
   ],
   "source": [
    "full_windows, full_labels = make_windows(prices, window_size=WINDOW_SIZE, horizon=HORIZON)\n",
    "len(full_windows), len(full_labels)"
   ]
  },
  {
   "cell_type": "code",
   "execution_count": 41,
   "id": "1a8bd7b1",
   "metadata": {},
   "outputs": [
    {
     "data": {
      "text/plain": [
       "(2212, 553, 2212, 553)"
      ]
     },
     "execution_count": 41,
     "metadata": {},
     "output_type": "execute_result"
    }
   ],
   "source": [
    "#making train and test splits\n",
    "train_windows, test_windows, train_labels, test_labels = make_train_test_splits(full_windows, full_labels)\n",
    "len(train_windows), len(test_windows), len(train_labels), len(test_labels)"
   ]
  },
  {
   "cell_type": "code",
   "execution_count": 42,
   "id": "c14bbd83",
   "metadata": {},
   "outputs": [
    {
     "name": "stdout",
     "output_type": "stream",
     "text": [
      "INFO:tensorflow:Assets written to: model_experiments/model_3_dense/assets\n",
      "INFO:tensorflow:Assets written to: model_experiments/model_3_dense/assets\n",
      "INFO:tensorflow:Assets written to: model_experiments/model_3_dense/assets\n",
      "INFO:tensorflow:Assets written to: model_experiments/model_3_dense/assets\n",
      "INFO:tensorflow:Assets written to: model_experiments/model_3_dense/assets\n",
      "INFO:tensorflow:Assets written to: model_experiments/model_3_dense/assets\n",
      "INFO:tensorflow:Assets written to: model_experiments/model_3_dense/assets\n",
      "INFO:tensorflow:Assets written to: model_experiments/model_3_dense/assets\n",
      "INFO:tensorflow:Assets written to: model_experiments/model_3_dense/assets\n",
      "INFO:tensorflow:Assets written to: model_experiments/model_3_dense/assets\n",
      "INFO:tensorflow:Assets written to: model_experiments/model_3_dense/assets\n",
      "INFO:tensorflow:Assets written to: model_experiments/model_3_dense/assets\n",
      "INFO:tensorflow:Assets written to: model_experiments/model_3_dense/assets\n",
      "INFO:tensorflow:Assets written to: model_experiments/model_3_dense/assets\n",
      "INFO:tensorflow:Assets written to: model_experiments/model_3_dense/assets\n",
      "INFO:tensorflow:Assets written to: model_experiments/model_3_dense/assets\n",
      "INFO:tensorflow:Assets written to: model_experiments/model_3_dense/assets\n",
      "INFO:tensorflow:Assets written to: model_experiments/model_3_dense/assets\n",
      "INFO:tensorflow:Assets written to: model_experiments/model_3_dense/assets\n",
      "INFO:tensorflow:Assets written to: model_experiments/model_3_dense/assets\n",
      "INFO:tensorflow:Assets written to: model_experiments/model_3_dense/assets\n",
      "INFO:tensorflow:Assets written to: model_experiments/model_3_dense/assets\n",
      "INFO:tensorflow:Assets written to: model_experiments/model_3_dense/assets\n",
      "INFO:tensorflow:Assets written to: model_experiments/model_3_dense/assets\n",
      "INFO:tensorflow:Assets written to: model_experiments/model_3_dense/assets\n",
      "INFO:tensorflow:Assets written to: model_experiments/model_3_dense/assets\n",
      "INFO:tensorflow:Assets written to: model_experiments/model_3_dense/assets\n",
      "INFO:tensorflow:Assets written to: model_experiments/model_3_dense/assets\n",
      "INFO:tensorflow:Assets written to: model_experiments/model_3_dense/assets\n"
     ]
    },
    {
     "data": {
      "text/plain": [
       "<tensorflow.python.keras.callbacks.History at 0x15aa4b910>"
      ]
     },
     "execution_count": 42,
     "metadata": {},
     "output_type": "execute_result"
    }
   ],
   "source": [
    "model_3 = tf.keras.Sequential([\n",
    "    layers.Dense(128, activation='relu'),\n",
    "    layers.Dense(HORIZON)\n",
    "], name='model_3_dense')\n",
    "\n",
    "model_3.compile(loss='mae', optimizer=tf.keras.optimizers.Adam())\n",
    "\n",
    "model_3.fit(x=train_windows, y=train_labels, epochs=100, verbose=0, batch_size=128, \n",
    "            validation_data=(test_windows, test_labels),\n",
    "            callbacks=[create_model_checkpoint(model_name=model_3.name)])"
   ]
  },
  {
   "cell_type": "code",
   "execution_count": 43,
   "id": "69218098",
   "metadata": {},
   "outputs": [
    {
     "name": "stdout",
     "output_type": "stream",
     "text": [
      "18/18 [==============================] - 0s 5ms/step - loss: 1359.8004\n"
     ]
    },
    {
     "data": {
      "text/plain": [
       "1359.8004150390625"
      ]
     },
     "execution_count": 43,
     "metadata": {},
     "output_type": "execute_result"
    }
   ],
   "source": [
    "model_3 = tf.keras.models.load_model(\"model_experiments/model_3_dense\")\n",
    "#Evaluating model1\n",
    "model_3.evaluate(test_windows, test_labels)"
   ]
  },
  {
   "cell_type": "code",
   "execution_count": 44,
   "id": "a80ab255",
   "metadata": {},
   "outputs": [],
   "source": [
    "# Get forecast predictions\n",
    "model_3_preds = make_forecast(model_3, input_data=test_windows)"
   ]
  },
  {
   "cell_type": "code",
   "execution_count": 45,
   "id": "1e276bdf",
   "metadata": {},
   "outputs": [
    {
     "data": {
      "text/plain": [
       "{'mae': 1359.8004,\n",
       " 'mse': 6582194.0,\n",
       " 'rmse': 1559.1783,\n",
       " 'mape': 5.7444053,\n",
       " 'mase': 2.25567}"
      ]
     },
     "execution_count": 45,
     "metadata": {},
     "output_type": "execute_result"
    }
   ],
   "source": [
    "model_3_results = evaluate_preds(y_true=tf.squeeze(test_labels), y_pred=model_3_preds)\n",
    "model_3_results"
   ]
  },
  {
   "cell_type": "code",
   "execution_count": 46,
   "id": "c88bf7cf",
   "metadata": {},
   "outputs": [
    {
     "data": {
      "image/png": "[encoded data removed]",
      "text/plain": [
       "<Figure size 720x504 with 1 Axes>"
      ]
     },
     "metadata": {
      "needs_background": "light"
     },
     "output_type": "display_data"
    }
   ],
   "source": [
    "#Plotting model_3 results\n",
    "offset = 300\n",
    "plt.figure(figsize=(10,7))\n",
    "plot_time_series(timesteps=X_test[-len(test_windows):], values=test_labels[:, 0],format='.', start=offset, label='Test Data')\n",
    "plot_time_series(timesteps=X_test[-len(test_windows):], values=model_3_preds,format='-', start=offset, label='Model 3 Prediction')\n"
   ]
  },
  {
   "cell_type": "code",
   "execution_count": 47,
   "id": "3f10c25e",
   "metadata": {},
   "outputs": [
    {
     "data": {
      "image/png": "[encoded data removed]",
      "text/plain": [
       "<Figure size 720x504 with 1 Axes>"
      ]
     },
     "metadata": {
      "needs_background": "light"
     },
     "output_type": "display_data"
    }
   ],
   "source": [
    "#Comparing our 3 dense models with naive forecast based on mae \n",
    "pd.DataFrame({\"naive\": naive_results[\"mae\"], \n",
    "              \"horizon_1_windows_7\": model_1_results[\"mae\"], \n",
    "              \"horizon_1_windows_30\": model_2_results[\"mae\"], \n",
    "              \"horizon_7_windows_30\": model_3_results[\"mae\"]}, index=[\"mae\"]).plot(figsize=(10, 7), kind=\"bar\");"
   ]
  },
  {
   "cell_type": "markdown",
   "id": "51a82ead",
   "metadata": {},
   "source": [
    "Model 4 - Conv1D - horizon=1 and windows=7"
   ]
  },
  {
   "cell_type": "code",
   "execution_count": 48,
   "id": "d6cf1eeb",
   "metadata": {},
   "outputs": [],
   "source": [
    "HORIZON = 1 # predict next day\n",
    "WINDOW_SIZE = 7 # use previous week worth of data"
   ]
  },
  {
   "cell_type": "code",
   "execution_count": 49,
   "id": "8f782520",
   "metadata": {},
   "outputs": [
    {
     "data": {
      "text/plain": [
       "(2794, 2794)"
      ]
     },
     "execution_count": 49,
     "metadata": {},
     "output_type": "execute_result"
    }
   ],
   "source": [
    "full_windows, full_labels = make_windows(prices, window_size=WINDOW_SIZE, horizon=HORIZON)\n",
    "len(full_windows), len(full_labels)"
   ]
  },
  {
   "cell_type": "code",
   "execution_count": 50,
   "id": "9051540d",
   "metadata": {},
   "outputs": [
    {
     "data": {
      "text/plain": [
       "(2235, 559, 2235, 559)"
      ]
     },
     "execution_count": 50,
     "metadata": {},
     "output_type": "execute_result"
    }
   ],
   "source": [
    "train_windows, test_windows, train_labels, test_labels = make_train_test_splits(full_windows, full_labels)\n",
    "len(train_windows), len(test_windows), len(train_labels), len(test_labels)"
   ]
  },
  {
   "cell_type": "code",
   "execution_count": 51,
   "id": "a17b95e8",
   "metadata": {},
   "outputs": [
    {
     "data": {
      "text/plain": [
       "(7,)"
      ]
     },
     "execution_count": 51,
     "metadata": {},
     "output_type": "execute_result"
    }
   ],
   "source": [
    "#check the shape for train_windows\n",
    "\n",
    "train_windows[0].shape"
   ]
  },
  {
   "cell_type": "code",
   "execution_count": 52,
   "id": "1d56c13e",
   "metadata": {},
   "outputs": [
    {
     "name": "stdout",
     "output_type": "stream",
     "text": [
      "Original shape: (7,)\n",
      "Expanded shape: (7, 1)\n",
      "Original values with expanded shape:\n",
      " [[123.65499]\n",
      " [125.455  ]\n",
      " [108.58483]\n",
      " [118.67466]\n",
      " [121.33866]\n",
      " [120.65533]\n",
      " [121.795  ]]\n"
     ]
    }
   ],
   "source": [
    "#change the shape eg (7, ) -> (7, 1)\n",
    "x = tf.constant(train_windows[0])\n",
    "#add an extra dimension for timestamps\n",
    "expand_dims_layer = layers.Lambda(lambda x: tf.expand_dims(x, axis=1))\n",
    "print(f\"Original shape: {x.shape}\") # (WINDOW_SIZE)\n",
    "print(f\"Expanded shape: {expand_dims_layer(x).shape}\") # (WINDOW_SIZE, input_dim) \n",
    "print(f\"Original values with expanded shape:\\n {expand_dims_layer(x)}\")"
   ]
  },
  {
   "cell_type": "code",
   "execution_count": 53,
   "id": "04551dc0",
   "metadata": {},
   "outputs": [
    {
     "name": "stdout",
     "output_type": "stream",
     "text": [
      "INFO:tensorflow:Assets written to: model_experiments/model_4_conv1D/assets\n",
      "INFO:tensorflow:Assets written to: model_experiments/model_4_conv1D/assets\n",
      "INFO:tensorflow:Assets written to: model_experiments/model_4_conv1D/assets\n",
      "INFO:tensorflow:Assets written to: model_experiments/model_4_conv1D/assets\n",
      "INFO:tensorflow:Assets written to: model_experiments/model_4_conv1D/assets\n",
      "INFO:tensorflow:Assets written to: model_experiments/model_4_conv1D/assets\n",
      "INFO:tensorflow:Assets written to: model_experiments/model_4_conv1D/assets\n",
      "INFO:tensorflow:Assets written to: model_experiments/model_4_conv1D/assets\n",
      "INFO:tensorflow:Assets written to: model_experiments/model_4_conv1D/assets\n",
      "INFO:tensorflow:Assets written to: model_experiments/model_4_conv1D/assets\n",
      "INFO:tensorflow:Assets written to: model_experiments/model_4_conv1D/assets\n",
      "INFO:tensorflow:Assets written to: model_experiments/model_4_conv1D/assets\n",
      "INFO:tensorflow:Assets written to: model_experiments/model_4_conv1D/assets\n",
      "INFO:tensorflow:Assets written to: model_experiments/model_4_conv1D/assets\n",
      "INFO:tensorflow:Assets written to: model_experiments/model_4_conv1D/assets\n",
      "INFO:tensorflow:Assets written to: model_experiments/model_4_conv1D/assets\n",
      "INFO:tensorflow:Assets written to: model_experiments/model_4_conv1D/assets\n",
      "INFO:tensorflow:Assets written to: model_experiments/model_4_conv1D/assets\n",
      "INFO:tensorflow:Assets written to: model_experiments/model_4_conv1D/assets\n",
      "INFO:tensorflow:Assets written to: model_experiments/model_4_conv1D/assets\n",
      "INFO:tensorflow:Assets written to: model_experiments/model_4_conv1D/assets\n",
      "INFO:tensorflow:Assets written to: model_experiments/model_4_conv1D/assets\n",
      "INFO:tensorflow:Assets written to: model_experiments/model_4_conv1D/assets\n",
      "INFO:tensorflow:Assets written to: model_experiments/model_4_conv1D/assets\n",
      "INFO:tensorflow:Assets written to: model_experiments/model_4_conv1D/assets\n",
      "INFO:tensorflow:Assets written to: model_experiments/model_4_conv1D/assets\n",
      "INFO:tensorflow:Assets written to: model_experiments/model_4_conv1D/assets\n",
      "INFO:tensorflow:Assets written to: model_experiments/model_4_conv1D/assets\n",
      "INFO:tensorflow:Assets written to: model_experiments/model_4_conv1D/assets\n",
      "INFO:tensorflow:Assets written to: model_experiments/model_4_conv1D/assets\n",
      "INFO:tensorflow:Assets written to: model_experiments/model_4_conv1D/assets\n",
      "INFO:tensorflow:Assets written to: model_experiments/model_4_conv1D/assets\n",
      "INFO:tensorflow:Assets written to: model_experiments/model_4_conv1D/assets\n",
      "INFO:tensorflow:Assets written to: model_experiments/model_4_conv1D/assets\n",
      "INFO:tensorflow:Assets written to: model_experiments/model_4_conv1D/assets\n",
      "INFO:tensorflow:Assets written to: model_experiments/model_4_conv1D/assets\n",
      "INFO:tensorflow:Assets written to: model_experiments/model_4_conv1D/assets\n",
      "INFO:tensorflow:Assets written to: model_experiments/model_4_conv1D/assets\n"
     ]
    },
    {
     "data": {
      "text/plain": [
       "<tensorflow.python.keras.callbacks.History at 0x15b063490>"
      ]
     },
     "execution_count": 53,
     "metadata": {},
     "output_type": "execute_result"
    }
   ],
   "source": [
    "# Create model 4\n",
    "model_4 = tf.keras.Sequential([\n",
    "  # Create Lambda layer to reshape inputs, without this layer, the model will error\n",
    "  layers.Lambda(lambda x: tf.expand_dims(x, axis=1)), # resize the inputs to adjust for window size / Conv1D 3D input requirements\n",
    "  layers.Conv1D(filters=128, kernel_size=3, padding=\"causal\", activation=\"relu\"),\n",
    "  layers.Dense(HORIZON)\n",
    "], name=\"model_4_conv1D\")\n",
    "\n",
    "# Compile model\n",
    "model_4.compile(loss=\"mae\",\n",
    "                optimizer=tf.keras.optimizers.Adam())\n",
    "\n",
    "# Fit model\n",
    "model_4.fit(train_windows, train_labels, batch_size=128, epochs=100, verbose=0,\n",
    "            validation_data=(test_windows, test_labels),\n",
    "            callbacks=[create_model_checkpoint(model_name=model_4.name)])"
   ]
  },
  {
   "cell_type": "code",
   "execution_count": 54,
   "id": "96759a3e",
   "metadata": {},
   "outputs": [
    {
     "name": "stdout",
     "output_type": "stream",
     "text": [
      "18/18 [==============================] - 1s 3ms/step - loss: 603.1299\n"
     ]
    },
    {
     "data": {
      "text/plain": [
       "603.1299438476562"
      ]
     },
     "execution_count": 54,
     "metadata": {},
     "output_type": "execute_result"
    }
   ],
   "source": [
    "model_4 = tf.keras.models.load_model(\"model_experiments/model_4_conv1D\")\n",
    "model_4.evaluate(test_windows, test_labels)"
   ]
  },
  {
   "cell_type": "code",
   "execution_count": 55,
   "id": "ab7a5fa4",
   "metadata": {},
   "outputs": [
    {
     "data": {
      "text/plain": [
       "<tf.Tensor: shape=(10,), dtype=float32, numpy=\n",
       "array([8069.023 , 7676.218 , 7309.9077, 7274.9824, 7058.393 , 7142.144 ,\n",
       "       7155.8047, 7450.908 , 7442.627 , 7694.854 ], dtype=float32)>"
      ]
     },
     "execution_count": 55,
     "metadata": {},
     "output_type": "execute_result"
    }
   ],
   "source": [
    "model_4_preds = make_forecast(model_4, test_windows)\n",
    "model_4_preds[:10]"
   ]
  },
  {
   "cell_type": "code",
   "execution_count": 56,
   "id": "c599db7b",
   "metadata": {},
   "outputs": [
    {
     "data": {
      "text/plain": [
       "{'mae': 603.13,\n",
       " 'mse': 1272696.5,\n",
       " 'rmse': 1128.1385,\n",
       " 'mape': 2.6020594,\n",
       " 'mase': 0.9997181}"
      ]
     },
     "execution_count": 56,
     "metadata": {},
     "output_type": "execute_result"
    }
   ],
   "source": [
    "# Evaluate predictions\n",
    "model_4_results = evaluate_preds(y_true=tf.squeeze(test_labels),\n",
    "                                 y_pred=model_4_preds)\n",
    "model_4_results"
   ]
  },
  {
   "cell_type": "code",
   "execution_count": 57,
   "id": "2fc96181",
   "metadata": {},
   "outputs": [
    {
     "name": "stdout",
     "output_type": "stream",
     "text": [
      "Model: \"model_4_conv1D\"\n",
      "_________________________________________________________________\n",
      "Layer (type)                 Output Shape              Param #   \n",
      "=================================================================\n",
      "lambda_1 (Lambda)            (None, 1, 7)              0         \n",
      "_________________________________________________________________\n",
      "conv1d (Conv1D)              (None, 1, 128)            2816      \n",
      "_________________________________________________________________\n",
      "dense_6 (Dense)              (None, 1, 1)              129       \n",
      "=================================================================\n",
      "Total params: 2,945\n",
      "Trainable params: 2,945\n",
      "Non-trainable params: 0\n",
      "_________________________________________________________________\n"
     ]
    }
   ],
   "source": [
    "model_4.summary()"
   ]
  },
  {
   "cell_type": "markdown",
   "id": "20eb2d07",
   "metadata": {},
   "source": [
    "Model 5 - RNN (LSTM)\n"
   ]
  },
  {
   "cell_type": "code",
   "execution_count": 58,
   "id": "03cc45b9",
   "metadata": {},
   "outputs": [
    {
     "data": {
      "text/plain": [
       "(2235, 2235)"
      ]
     },
     "execution_count": 58,
     "metadata": {},
     "output_type": "execute_result"
    }
   ],
   "source": [
    "len(train_windows), len(train_labels)"
   ]
  },
  {
   "cell_type": "code",
   "execution_count": 59,
   "id": "c0ca0d36",
   "metadata": {},
   "outputs": [
    {
     "name": "stdout",
     "output_type": "stream",
     "text": [
      "INFO:tensorflow:Assets written to: model_experiments/model_5_lstm/assets\n",
      "INFO:tensorflow:Assets written to: model_experiments/model_5_lstm/assets\n",
      "INFO:tensorflow:Assets written to: model_experiments/model_5_lstm/assets\n",
      "INFO:tensorflow:Assets written to: model_experiments/model_5_lstm/assets\n",
      "INFO:tensorflow:Assets written to: model_experiments/model_5_lstm/assets\n",
      "INFO:tensorflow:Assets written to: model_experiments/model_5_lstm/assets\n",
      "INFO:tensorflow:Assets written to: model_experiments/model_5_lstm/assets\n",
      "INFO:tensorflow:Assets written to: model_experiments/model_5_lstm/assets\n",
      "INFO:tensorflow:Assets written to: model_experiments/model_5_lstm/assets\n",
      "INFO:tensorflow:Assets written to: model_experiments/model_5_lstm/assets\n",
      "INFO:tensorflow:Assets written to: model_experiments/model_5_lstm/assets\n",
      "INFO:tensorflow:Assets written to: model_experiments/model_5_lstm/assets\n",
      "INFO:tensorflow:Assets written to: model_experiments/model_5_lstm/assets\n",
      "INFO:tensorflow:Assets written to: model_experiments/model_5_lstm/assets\n",
      "INFO:tensorflow:Assets written to: model_experiments/model_5_lstm/assets\n",
      "INFO:tensorflow:Assets written to: model_experiments/model_5_lstm/assets\n",
      "INFO:tensorflow:Assets written to: model_experiments/model_5_lstm/assets\n",
      "INFO:tensorflow:Assets written to: model_experiments/model_5_lstm/assets\n",
      "INFO:tensorflow:Assets written to: model_experiments/model_5_lstm/assets\n",
      "INFO:tensorflow:Assets written to: model_experiments/model_5_lstm/assets\n",
      "INFO:tensorflow:Assets written to: model_experiments/model_5_lstm/assets\n",
      "INFO:tensorflow:Assets written to: model_experiments/model_5_lstm/assets\n",
      "INFO:tensorflow:Assets written to: model_experiments/model_5_lstm/assets\n",
      "INFO:tensorflow:Assets written to: model_experiments/model_5_lstm/assets\n",
      "INFO:tensorflow:Assets written to: model_experiments/model_5_lstm/assets\n",
      "INFO:tensorflow:Assets written to: model_experiments/model_5_lstm/assets\n",
      "INFO:tensorflow:Assets written to: model_experiments/model_5_lstm/assets\n",
      "INFO:tensorflow:Assets written to: model_experiments/model_5_lstm/assets\n",
      "INFO:tensorflow:Assets written to: model_experiments/model_5_lstm/assets\n",
      "INFO:tensorflow:Assets written to: model_experiments/model_5_lstm/assets\n",
      "INFO:tensorflow:Assets written to: model_experiments/model_5_lstm/assets\n",
      "INFO:tensorflow:Assets written to: model_experiments/model_5_lstm/assets\n",
      "INFO:tensorflow:Assets written to: model_experiments/model_5_lstm/assets\n",
      "INFO:tensorflow:Assets written to: model_experiments/model_5_lstm/assets\n",
      "INFO:tensorflow:Assets written to: model_experiments/model_5_lstm/assets\n",
      "INFO:tensorflow:Assets written to: model_experiments/model_5_lstm/assets\n",
      "INFO:tensorflow:Assets written to: model_experiments/model_5_lstm/assets\n",
      "INFO:tensorflow:Assets written to: model_experiments/model_5_lstm/assets\n",
      "INFO:tensorflow:Assets written to: model_experiments/model_5_lstm/assets\n",
      "INFO:tensorflow:Assets written to: model_experiments/model_5_lstm/assets\n",
      "INFO:tensorflow:Assets written to: model_experiments/model_5_lstm/assets\n",
      "INFO:tensorflow:Assets written to: model_experiments/model_5_lstm/assets\n",
      "INFO:tensorflow:Assets written to: model_experiments/model_5_lstm/assets\n",
      "INFO:tensorflow:Assets written to: model_experiments/model_5_lstm/assets\n",
      "INFO:tensorflow:Assets written to: model_experiments/model_5_lstm/assets\n",
      "INFO:tensorflow:Assets written to: model_experiments/model_5_lstm/assets\n",
      "INFO:tensorflow:Assets written to: model_experiments/model_5_lstm/assets\n",
      "INFO:tensorflow:Assets written to: model_experiments/model_5_lstm/assets\n",
      "INFO:tensorflow:Assets written to: model_experiments/model_5_lstm/assets\n",
      "INFO:tensorflow:Assets written to: model_experiments/model_5_lstm/assets\n"
     ]
    },
    {
     "data": {
      "text/plain": [
       "<tensorflow.python.keras.callbacks.History at 0x15b47d880>"
      ]
     },
     "execution_count": 59,
     "metadata": {},
     "output_type": "execute_result"
    }
   ],
   "source": [
    "#Create model \n",
    "tf.random.set_seed(42)\n",
    "\n",
    "#Building LSTM model using functional API\n",
    "inputs = layers.Input(shape=(WINDOW_SIZE))\n",
    "x = layers.Lambda(lambda x: tf.expand_dims(x, axis=1))(inputs)\n",
    "\n",
    "x = layers.LSTM(128, activation='relu')(x)\n",
    "\n",
    "outputs = layers.Dense(HORIZON)(x)\n",
    "model_5 = tf.keras.Model(inputs=inputs, outputs=outputs, name='model_5_lstm')\n",
    "\n",
    "model_5.compile(loss='mae', optimizer=tf.keras.optimizers.Adam())\n",
    "\n",
    "model_5.fit(train_windows, train_labels, epochs=100, batch_size=128, verbose=0,\n",
    "           validation_data=(test_windows, test_labels),\n",
    "           callbacks=[create_model_checkpoint(model_name=model_5.name)])"
   ]
  },
  {
   "cell_type": "code",
   "execution_count": 60,
   "id": "215fd630",
   "metadata": {},
   "outputs": [
    {
     "name": "stdout",
     "output_type": "stream",
     "text": [
      "Model: \"model_5_lstm\"\n",
      "_________________________________________________________________\n",
      "Layer (type)                 Output Shape              Param #   \n",
      "=================================================================\n",
      "input_1 (InputLayer)         [(None, 7)]               0         \n",
      "_________________________________________________________________\n",
      "lambda_2 (Lambda)            (None, 1, 7)              0         \n",
      "_________________________________________________________________\n",
      "lstm (LSTM)                  (None, 128)               69632     \n",
      "_________________________________________________________________\n",
      "dense_7 (Dense)              (None, 1)                 129       \n",
      "=================================================================\n",
      "Total params: 69,761\n",
      "Trainable params: 69,761\n",
      "Non-trainable params: 0\n",
      "_________________________________________________________________\n"
     ]
    }
   ],
   "source": [
    "model_5.summary()"
   ]
  },
  {
   "cell_type": "code",
   "execution_count": 61,
   "id": "548a3fd6",
   "metadata": {},
   "outputs": [
    {
     "name": "stdout",
     "output_type": "stream",
     "text": [
      "18/18 [==============================] - 1s 13ms/step - loss: 625.6770\n"
     ]
    },
    {
     "data": {
      "text/plain": [
       "625.677001953125"
      ]
     },
     "execution_count": 61,
     "metadata": {},
     "output_type": "execute_result"
    }
   ],
   "source": [
    "model_5 = tf.keras.models.load_model(\"model_experiments/model_5_lstm\")\n",
    "model_5.evaluate(test_windows, test_labels)"
   ]
  },
  {
   "cell_type": "code",
   "execution_count": 62,
   "id": "8f822ecb",
   "metadata": {},
   "outputs": [
    {
     "data": {
      "text/plain": [
       "<tf.Tensor: shape=(10,), dtype=float32, numpy=\n",
       "array([8087.489 , 7761.887 , 7329.6743, 7261.9185, 7104.147 , 7108.743 ,\n",
       "       7131.3413, 7422.376 , 7436.23  , 7669.654 ], dtype=float32)>"
      ]
     },
     "execution_count": 62,
     "metadata": {},
     "output_type": "execute_result"
    }
   ],
   "source": [
    "model_5_preds = make_forecast(model_5, test_windows)\n",
    "model_5_preds[:10]"
   ]
  },
  {
   "cell_type": "code",
   "execution_count": 63,
   "id": "f13a90c3",
   "metadata": {},
   "outputs": [
    {
     "data": {
      "text/plain": [
       "{'mae': 625.6771,\n",
       " 'mse': 1353497.8,\n",
       " 'rmse': 1163.3992,\n",
       " 'mape': 2.718535,\n",
       " 'mase': 1.0370911}"
      ]
     },
     "execution_count": 63,
     "metadata": {},
     "output_type": "execute_result"
    }
   ],
   "source": [
    "# Evaluate predictions\n",
    "model_5_results = evaluate_preds(y_true=tf.squeeze(test_labels),\n",
    "                                 y_pred=model_5_preds)\n",
    "model_5_results"
   ]
  },
  {
   "cell_type": "markdown",
   "id": "8d8eeedf",
   "metadata": {},
   "source": [
    "Model 6 - cloning Model 1 on multivariate time series data"
   ]
  },
  {
   "cell_type": "code",
   "execution_count": 64,
   "id": "f081f9ed",
   "metadata": {},
   "outputs": [],
   "source": [
    "#Make a multivariate time series for out dataset\n",
    "#adding another feature column to the dataset\n",
    "#Reward values - value halved every 4 years\n",
    "\n",
    "block_reward_1 = 50\n",
    "block_reward_2 = 25 \n",
    "block_reward_3 = 12.5 \n",
    "block_reward_4 = 6.25\n",
    "\n",
    "#Adding time stamps with 4 years interval\n",
    "block_reward_2_datetime = np.datetime64(\"2012-11-28\")\n",
    "block_reward_3_datetime = np.datetime64(\"2016-07-09\")\n",
    "block_reward_4_datetime = np.datetime64(\"2020-05-11\")"
   ]
  },
  {
   "cell_type": "code",
   "execution_count": 65,
   "id": "59883e60",
   "metadata": {},
   "outputs": [
    {
     "data": {
      "text/plain": [
       "(1012, 2414)"
      ]
     },
     "execution_count": 65,
     "metadata": {},
     "output_type": "execute_result"
    }
   ],
   "source": [
    "# Get date indexes for when to add in different block dates\n",
    "#this is done since prices are daily the rewards too have to be daily\n",
    "block_reward_2_days = (block_reward_3_datetime - bitcoin_prices.index[0]).days\n",
    "block_reward_3_days = (block_reward_4_datetime - bitcoin_prices.index[0]).days\n",
    "block_reward_2_days, block_reward_3_days"
   ]
  },
  {
   "cell_type": "code",
   "execution_count": 66,
   "id": "4285910e",
   "metadata": {},
   "outputs": [
    {
     "data": {
      "text/html": [
       "<div>\n",
       "<style scoped>\n",
       "    .dataframe tbody tr th:only-of-type {\n",
       "        vertical-align: middle;\n",
       "    }\n",
       "\n",
       "    .dataframe tbody tr th {\n",
       "        vertical-align: top;\n",
       "    }\n",
       "\n",
       "    .dataframe thead th {\n",
       "        text-align: right;\n",
       "    }\n",
       "</style>\n",
       "<table border=\"1\" class=\"dataframe\">\n",
       "  <thead>\n",
       "    <tr style=\"text-align: right;\">\n",
       "      <th></th>\n",
       "      <th>Price</th>\n",
       "      <th>block_reward</th>\n",
       "    </tr>\n",
       "    <tr>\n",
       "      <th>Date</th>\n",
       "      <th></th>\n",
       "      <th></th>\n",
       "    </tr>\n",
       "  </thead>\n",
       "  <tbody>\n",
       "    <tr>\n",
       "      <th>2013-10-01</th>\n",
       "      <td>123.65499</td>\n",
       "      <td>25</td>\n",
       "    </tr>\n",
       "    <tr>\n",
       "      <th>2013-10-02</th>\n",
       "      <td>125.45500</td>\n",
       "      <td>25</td>\n",
       "    </tr>\n",
       "    <tr>\n",
       "      <th>2013-10-03</th>\n",
       "      <td>108.58483</td>\n",
       "      <td>25</td>\n",
       "    </tr>\n",
       "    <tr>\n",
       "      <th>2013-10-04</th>\n",
       "      <td>118.67466</td>\n",
       "      <td>25</td>\n",
       "    </tr>\n",
       "    <tr>\n",
       "      <th>2013-10-05</th>\n",
       "      <td>121.33866</td>\n",
       "      <td>25</td>\n",
       "    </tr>\n",
       "  </tbody>\n",
       "</table>\n",
       "</div>"
      ],
      "text/plain": [
       "                Price block_reward\n",
       "Date                              \n",
       "2013-10-01  123.65499           25\n",
       "2013-10-02  125.45500           25\n",
       "2013-10-03  108.58483           25\n",
       "2013-10-04  118.67466           25\n",
       "2013-10-05  121.33866           25"
      ]
     },
     "execution_count": 66,
     "metadata": {},
     "output_type": "execute_result"
    }
   ],
   "source": [
    "#adding th column to the dataset\n",
    "# Add block_reward column\n",
    "bitcoin_prices_block = bitcoin_prices.copy()\n",
    "bitcoin_prices_block[\"block_reward\"] = None\n",
    "\n",
    "# Set values of block_reward column (it's the last column hence -1 indexing on iloc)\n",
    "bitcoin_prices_block.iloc[:block_reward_2_days, -1] = block_reward_2\n",
    "bitcoin_prices_block.iloc[block_reward_2_days:block_reward_3_days, -1] = block_reward_3\n",
    "bitcoin_prices_block.iloc[block_reward_3_days:, -1] = block_reward_4\n",
    "bitcoin_prices_block.head()"
   ]
  },
  {
   "cell_type": "code",
   "execution_count": 67,
   "id": "d4a2b4f7",
   "metadata": {},
   "outputs": [
    {
     "data": {
      "image/png": "[encoded data removed]",
      "text/plain": [
       "<Figure size 720x504 with 1 Axes>"
      ]
     },
     "metadata": {
      "needs_background": "light"
     },
     "output_type": "display_data"
    }
   ],
   "source": [
    "# Plot the block reward/price over time\n",
    "scaled_price_block_df = pd.DataFrame(minmax_scale(bitcoin_prices_block[[\"Price\", \"block_reward\"]]), # we need to scale the data first\n",
    "                                     columns=bitcoin_prices_block.columns,\n",
    "                                     index=bitcoin_prices_block.index)\n",
    "scaled_price_block_df.plot(figsize=(10, 7));"
   ]
  },
  {
   "cell_type": "code",
   "execution_count": 68,
   "id": "cb10c7ec",
   "metadata": {},
   "outputs": [],
   "source": [
    "#making the windowed dataset with pandas\n",
    "HORIZON = 1\n",
    "WINDOW_SIZE = 7"
   ]
  },
  {
   "cell_type": "code",
   "execution_count": 69,
   "id": "19144388",
   "metadata": {},
   "outputs": [
    {
     "data": {
      "text/html": [
       "<div>\n",
       "<style scoped>\n",
       "    .dataframe tbody tr th:only-of-type {\n",
       "        vertical-align: middle;\n",
       "    }\n",
       "\n",
       "    .dataframe tbody tr th {\n",
       "        vertical-align: top;\n",
       "    }\n",
       "\n",
       "    .dataframe thead th {\n",
       "        text-align: right;\n",
       "    }\n",
       "</style>\n",
       "<table border=\"1\" class=\"dataframe\">\n",
       "  <thead>\n",
       "    <tr style=\"text-align: right;\">\n",
       "      <th></th>\n",
       "      <th>Price</th>\n",
       "      <th>block_reward</th>\n",
       "      <th>Price+1</th>\n",
       "      <th>Price+2</th>\n",
       "      <th>Price+3</th>\n",
       "      <th>Price+4</th>\n",
       "      <th>Price+5</th>\n",
       "      <th>Price+6</th>\n",
       "      <th>Price+7</th>\n",
       "    </tr>\n",
       "    <tr>\n",
       "      <th>Date</th>\n",
       "      <th></th>\n",
       "      <th></th>\n",
       "      <th></th>\n",
       "      <th></th>\n",
       "      <th></th>\n",
       "      <th></th>\n",
       "      <th></th>\n",
       "      <th></th>\n",
       "      <th></th>\n",
       "    </tr>\n",
       "  </thead>\n",
       "  <tbody>\n",
       "    <tr>\n",
       "      <th>2013-10-01</th>\n",
       "      <td>123.65499</td>\n",
       "      <td>25</td>\n",
       "      <td>NaN</td>\n",
       "      <td>NaN</td>\n",
       "      <td>NaN</td>\n",
       "      <td>NaN</td>\n",
       "      <td>NaN</td>\n",
       "      <td>NaN</td>\n",
       "      <td>NaN</td>\n",
       "    </tr>\n",
       "    <tr>\n",
       "      <th>2013-10-02</th>\n",
       "      <td>125.45500</td>\n",
       "      <td>25</td>\n",
       "      <td>123.65499</td>\n",
       "      <td>NaN</td>\n",
       "      <td>NaN</td>\n",
       "      <td>NaN</td>\n",
       "      <td>NaN</td>\n",
       "      <td>NaN</td>\n",
       "      <td>NaN</td>\n",
       "    </tr>\n",
       "    <tr>\n",
       "      <th>2013-10-03</th>\n",
       "      <td>108.58483</td>\n",
       "      <td>25</td>\n",
       "      <td>125.45500</td>\n",
       "      <td>123.65499</td>\n",
       "      <td>NaN</td>\n",
       "      <td>NaN</td>\n",
       "      <td>NaN</td>\n",
       "      <td>NaN</td>\n",
       "      <td>NaN</td>\n",
       "    </tr>\n",
       "    <tr>\n",
       "      <th>2013-10-04</th>\n",
       "      <td>118.67466</td>\n",
       "      <td>25</td>\n",
       "      <td>108.58483</td>\n",
       "      <td>125.45500</td>\n",
       "      <td>123.65499</td>\n",
       "      <td>NaN</td>\n",
       "      <td>NaN</td>\n",
       "      <td>NaN</td>\n",
       "      <td>NaN</td>\n",
       "    </tr>\n",
       "    <tr>\n",
       "      <th>2013-10-05</th>\n",
       "      <td>121.33866</td>\n",
       "      <td>25</td>\n",
       "      <td>118.67466</td>\n",
       "      <td>108.58483</td>\n",
       "      <td>125.45500</td>\n",
       "      <td>123.65499</td>\n",
       "      <td>NaN</td>\n",
       "      <td>NaN</td>\n",
       "      <td>NaN</td>\n",
       "    </tr>\n",
       "  </tbody>\n",
       "</table>\n",
       "</div>"
      ],
      "text/plain": [
       "                Price block_reward    Price+1    Price+2    Price+3  \\\n",
       "Date                                                                  \n",
       "2013-10-01  123.65499           25        NaN        NaN        NaN   \n",
       "2013-10-02  125.45500           25  123.65499        NaN        NaN   \n",
       "2013-10-03  108.58483           25  125.45500  123.65499        NaN   \n",
       "2013-10-04  118.67466           25  108.58483  125.45500  123.65499   \n",
       "2013-10-05  121.33866           25  118.67466  108.58483  125.45500   \n",
       "\n",
       "              Price+4  Price+5  Price+6  Price+7  \n",
       "Date                                              \n",
       "2013-10-01        NaN      NaN      NaN      NaN  \n",
       "2013-10-02        NaN      NaN      NaN      NaN  \n",
       "2013-10-03        NaN      NaN      NaN      NaN  \n",
       "2013-10-04        NaN      NaN      NaN      NaN  \n",
       "2013-10-05  123.65499      NaN      NaN      NaN  "
      ]
     },
     "execution_count": 69,
     "metadata": {},
     "output_type": "execute_result"
    }
   ],
   "source": [
    "bitcoin_prices_windowed = bitcoin_prices_block.copy()\n",
    "for i in range(WINDOW_SIZE):\n",
    "    bitcoin_prices_windowed[f\"Price+{i+1}\"] = bitcoin_prices_windowed[\"Price\"].shift(i+1)\n",
    "bitcoin_prices_windowed.head()"
   ]
  },
  {
   "cell_type": "code",
   "execution_count": 70,
   "id": "dea324c6",
   "metadata": {},
   "outputs": [
    {
     "data": {
      "text/html": [
       "<div>\n",
       "<style scoped>\n",
       "    .dataframe tbody tr th:only-of-type {\n",
       "        vertical-align: middle;\n",
       "    }\n",
       "\n",
       "    .dataframe tbody tr th {\n",
       "        vertical-align: top;\n",
       "    }\n",
       "\n",
       "    .dataframe thead th {\n",
       "        text-align: right;\n",
       "    }\n",
       "</style>\n",
       "<table border=\"1\" class=\"dataframe\">\n",
       "  <thead>\n",
       "    <tr style=\"text-align: right;\">\n",
       "      <th></th>\n",
       "      <th>block_reward</th>\n",
       "      <th>Price+1</th>\n",
       "      <th>Price+2</th>\n",
       "      <th>Price+3</th>\n",
       "      <th>Price+4</th>\n",
       "      <th>Price+5</th>\n",
       "      <th>Price+6</th>\n",
       "      <th>Price+7</th>\n",
       "    </tr>\n",
       "    <tr>\n",
       "      <th>Date</th>\n",
       "      <th></th>\n",
       "      <th></th>\n",
       "      <th></th>\n",
       "      <th></th>\n",
       "      <th></th>\n",
       "      <th></th>\n",
       "      <th></th>\n",
       "      <th></th>\n",
       "    </tr>\n",
       "  </thead>\n",
       "  <tbody>\n",
       "    <tr>\n",
       "      <th>2013-10-08</th>\n",
       "      <td>25.0</td>\n",
       "      <td>121.794998</td>\n",
       "      <td>120.655327</td>\n",
       "      <td>121.338661</td>\n",
       "      <td>118.674660</td>\n",
       "      <td>108.584831</td>\n",
       "      <td>125.455002</td>\n",
       "      <td>123.654991</td>\n",
       "    </tr>\n",
       "    <tr>\n",
       "      <th>2013-10-09</th>\n",
       "      <td>25.0</td>\n",
       "      <td>123.032997</td>\n",
       "      <td>121.794998</td>\n",
       "      <td>120.655327</td>\n",
       "      <td>121.338661</td>\n",
       "      <td>118.674660</td>\n",
       "      <td>108.584831</td>\n",
       "      <td>125.455002</td>\n",
       "    </tr>\n",
       "    <tr>\n",
       "      <th>2013-10-10</th>\n",
       "      <td>25.0</td>\n",
       "      <td>124.049004</td>\n",
       "      <td>123.032997</td>\n",
       "      <td>121.794998</td>\n",
       "      <td>120.655327</td>\n",
       "      <td>121.338661</td>\n",
       "      <td>118.674660</td>\n",
       "      <td>108.584831</td>\n",
       "    </tr>\n",
       "    <tr>\n",
       "      <th>2013-10-11</th>\n",
       "      <td>25.0</td>\n",
       "      <td>125.961159</td>\n",
       "      <td>124.049004</td>\n",
       "      <td>123.032997</td>\n",
       "      <td>121.794998</td>\n",
       "      <td>120.655327</td>\n",
       "      <td>121.338661</td>\n",
       "      <td>118.674660</td>\n",
       "    </tr>\n",
       "    <tr>\n",
       "      <th>2013-10-12</th>\n",
       "      <td>25.0</td>\n",
       "      <td>125.279663</td>\n",
       "      <td>125.961159</td>\n",
       "      <td>124.049004</td>\n",
       "      <td>123.032997</td>\n",
       "      <td>121.794998</td>\n",
       "      <td>120.655327</td>\n",
       "      <td>121.338661</td>\n",
       "    </tr>\n",
       "  </tbody>\n",
       "</table>\n",
       "</div>"
      ],
      "text/plain": [
       "            block_reward     Price+1     Price+2     Price+3     Price+4  \\\n",
       "Date                                                                       \n",
       "2013-10-08          25.0  121.794998  120.655327  121.338661  118.674660   \n",
       "2013-10-09          25.0  123.032997  121.794998  120.655327  121.338661   \n",
       "2013-10-10          25.0  124.049004  123.032997  121.794998  120.655327   \n",
       "2013-10-11          25.0  125.961159  124.049004  123.032997  121.794998   \n",
       "2013-10-12          25.0  125.279663  125.961159  124.049004  123.032997   \n",
       "\n",
       "               Price+5     Price+6     Price+7  \n",
       "Date                                            \n",
       "2013-10-08  108.584831  125.455002  123.654991  \n",
       "2013-10-09  118.674660  108.584831  125.455002  \n",
       "2013-10-10  121.338661  118.674660  108.584831  \n",
       "2013-10-11  120.655327  121.338661  118.674660  \n",
       "2013-10-12  121.794998  120.655327  121.338661  "
      ]
     },
     "execution_count": 70,
     "metadata": {},
     "output_type": "execute_result"
    }
   ],
   "source": [
    "#spearating the prediction values \n",
    "X = bitcoin_prices_windowed.dropna().drop(\"Price\", axis=1).astype(np.float32) \n",
    "y = bitcoin_prices_windowed.dropna()[\"Price\"].astype(np.float32)\n",
    "X.head()"
   ]
  },
  {
   "cell_type": "code",
   "execution_count": 71,
   "id": "abe955b2",
   "metadata": {},
   "outputs": [
    {
     "data": {
      "text/plain": [
       "(2235, 2235, 559, 559)"
      ]
     },
     "execution_count": 71,
     "metadata": {},
     "output_type": "execute_result"
    }
   ],
   "source": [
    "#splitting into train and test sets\n",
    "split_size = int(len(X) * 0.8)\n",
    "X_train, y_train = X[:split_size], y[:split_size]\n",
    "X_test, y_test = X[split_size:], y[split_size:]\n",
    "len(X_train), len(y_train), len(X_test), len(y_test)"
   ]
  },
  {
   "cell_type": "code",
   "execution_count": 72,
   "id": "b62bbbdc",
   "metadata": {},
   "outputs": [
    {
     "name": "stdout",
     "output_type": "stream",
     "text": [
      "INFO:tensorflow:Assets written to: model_experiments/model_6_dense_multivariate/assets\n",
      "INFO:tensorflow:Assets written to: model_experiments/model_6_dense_multivariate/assets\n",
      "INFO:tensorflow:Assets written to: model_experiments/model_6_dense_multivariate/assets\n",
      "INFO:tensorflow:Assets written to: model_experiments/model_6_dense_multivariate/assets\n",
      "INFO:tensorflow:Assets written to: model_experiments/model_6_dense_multivariate/assets\n",
      "INFO:tensorflow:Assets written to: model_experiments/model_6_dense_multivariate/assets\n",
      "INFO:tensorflow:Assets written to: model_experiments/model_6_dense_multivariate/assets\n",
      "INFO:tensorflow:Assets written to: model_experiments/model_6_dense_multivariate/assets\n",
      "INFO:tensorflow:Assets written to: model_experiments/model_6_dense_multivariate/assets\n",
      "INFO:tensorflow:Assets written to: model_experiments/model_6_dense_multivariate/assets\n",
      "INFO:tensorflow:Assets written to: model_experiments/model_6_dense_multivariate/assets\n",
      "INFO:tensorflow:Assets written to: model_experiments/model_6_dense_multivariate/assets\n",
      "INFO:tensorflow:Assets written to: model_experiments/model_6_dense_multivariate/assets\n",
      "INFO:tensorflow:Assets written to: model_experiments/model_6_dense_multivariate/assets\n",
      "INFO:tensorflow:Assets written to: model_experiments/model_6_dense_multivariate/assets\n",
      "INFO:tensorflow:Assets written to: model_experiments/model_6_dense_multivariate/assets\n",
      "INFO:tensorflow:Assets written to: model_experiments/model_6_dense_multivariate/assets\n"
     ]
    },
    {
     "data": {
      "text/plain": [
       "<tensorflow.python.keras.callbacks.History at 0x15bf23e50>"
      ]
     },
     "execution_count": 72,
     "metadata": {},
     "output_type": "execute_result"
    }
   ],
   "source": [
    "tf.random.set_seed(42)\n",
    "\n",
    "X_train = tf.cast(X_train, dtype=tf.float32)\n",
    "y_train = tf.cast(y_train, dtype=tf.float32)\n",
    "    \n",
    "    \n",
    "model_6 = tf.keras.Sequential([\n",
    "  layers.Dense(128, activation=\"relu\"),\n",
    "  layers.Dense(128, activation=\"relu\"), # adding an extra layer here should lead to beating the Naive model\n",
    "  layers.Dense(HORIZON)\n",
    "], name=\"model_6_dense_multivariate\")\n",
    "\n",
    "model_6.compile(loss=\"mae\", optimizer=tf.keras.optimizers.Adam())\n",
    "\n",
    "\n",
    "model_6.fit(X_train, y_train, epochs=100, batch_size=128, verbose=0, # only print 1 line per epoch\n",
    "            validation_data=(X_test, y_test),\n",
    "            callbacks=[create_model_checkpoint(model_name=model_6.name)])"
   ]
  },
  {
   "cell_type": "code",
   "execution_count": 73,
   "id": "7f756a57",
   "metadata": {},
   "outputs": [
    {
     "name": "stdout",
     "output_type": "stream",
     "text": [
      "Model: \"model_6_dense_multivariate\"\n",
      "_________________________________________________________________\n",
      "Layer (type)                 Output Shape              Param #   \n",
      "=================================================================\n",
      "dense_8 (Dense)              (None, 128)               1152      \n",
      "_________________________________________________________________\n",
      "dense_9 (Dense)              (None, 128)               16512     \n",
      "_________________________________________________________________\n",
      "dense_10 (Dense)             (None, 1)                 129       \n",
      "=================================================================\n",
      "Total params: 17,793\n",
      "Trainable params: 17,793\n",
      "Non-trainable params: 0\n",
      "_________________________________________________________________\n"
     ]
    }
   ],
   "source": [
    "model_6.summary()"
   ]
  },
  {
   "cell_type": "code",
   "execution_count": 74,
   "id": "eb9fad50",
   "metadata": {},
   "outputs": [
    {
     "name": "stdout",
     "output_type": "stream",
     "text": [
      "18/18 [==============================] - 0s 4ms/step - loss: 617.1022\n"
     ]
    },
    {
     "data": {
      "text/plain": [
       "617.1022338867188"
      ]
     },
     "execution_count": 74,
     "metadata": {},
     "output_type": "execute_result"
    }
   ],
   "source": [
    "# Evalaute\n",
    "model_6.evaluate(X_test, y_test)"
   ]
  },
  {
   "cell_type": "code",
   "execution_count": 75,
   "id": "4e61a91d",
   "metadata": {},
   "outputs": [
    {
     "name": "stdout",
     "output_type": "stream",
     "text": [
      "18/18 [==============================] - 0s 2ms/step - loss: 604.6630\n"
     ]
    },
    {
     "data": {
      "text/plain": [
       "604.6630249023438"
      ]
     },
     "execution_count": 75,
     "metadata": {},
     "output_type": "execute_result"
    }
   ],
   "source": [
    "# Make sure best model is loaded and evaluate\n",
    "model_6 = tf.keras.models.load_model(\"model_experiments/model_6_dense_multivariate\")\n",
    "model_6.evaluate(X_test, y_test)"
   ]
  },
  {
   "cell_type": "code",
   "execution_count": 76,
   "id": "dc33a538",
   "metadata": {},
   "outputs": [
    {
     "data": {
      "text/plain": [
       "<tf.Tensor: shape=(10,), dtype=float32, numpy=\n",
       "array([8048.192 , 7642.851 , 7273.9478, 7295.1016, 7106.494 , 7202.1763,\n",
       "       7142.5557, 7472.0967, 7402.308 , 7695.268 ], dtype=float32)>"
      ]
     },
     "execution_count": 76,
     "metadata": {},
     "output_type": "execute_result"
    }
   ],
   "source": [
    "# Make predictions on multivariate data\n",
    "model_6_preds = tf.squeeze(model_6.predict(X_test))\n",
    "model_6_preds[:10]"
   ]
  },
  {
   "cell_type": "code",
   "execution_count": 77,
   "id": "701ecfb6",
   "metadata": {},
   "outputs": [
    {
     "data": {
      "text/plain": [
       "{'mae': 604.6629,\n",
       " 'mse': 1270147.4,\n",
       " 'rmse': 1127.0082,\n",
       " 'mape': 2.6210763,\n",
       " 'mase': 1.002259}"
      ]
     },
     "execution_count": 77,
     "metadata": {},
     "output_type": "execute_result"
    }
   ],
   "source": [
    "# Evaluate preds\n",
    "model_6_results = evaluate_preds(y_true=y_test, y_pred=model_6_preds)\n",
    "model_6_results"
   ]
  },
  {
   "cell_type": "code",
   "execution_count": 78,
   "id": "8d03416e",
   "metadata": {},
   "outputs": [
    {
     "data": {
      "text/plain": [
       "({'mae': 602.0485,\n",
       "  'mse': 1258207.5,\n",
       "  'rmse': 1121.6985,\n",
       "  'mape': 2.5736644,\n",
       "  'mase': 0.99834347},\n",
       " {'mae': 604.6629,\n",
       "  'mse': 1270147.4,\n",
       "  'rmse': 1127.0082,\n",
       "  'mape': 2.6210763,\n",
       "  'mase': 1.002259})"
      ]
     },
     "execution_count": 78,
     "metadata": {},
     "output_type": "execute_result"
    }
   ],
   "source": [
    "naive_results, model_6_results"
   ]
  },
  {
   "cell_type": "markdown",
   "id": "85a6216a",
   "metadata": {},
   "source": [
    "Model 7 - N-BEATS Algorithm"
   ]
  },
  {
   "cell_type": "code",
   "execution_count": 95,
   "id": "380e3ae7",
   "metadata": {},
   "outputs": [],
   "source": [
    "#Creating a NBeatsBlock Custom layer function\n",
    "class NBeatsBlock(tf.keras.layers.Layer):\n",
    "    def __init__(self, input_size: int, theta_size: int, horizon: int, n_neurons: int, n_layers: int, **kwargs):\n",
    "        super().__init__(**kwargs)\n",
    "        self.input_size = input_size\n",
    "        self.theta_size = theta_size\n",
    "        self.horizon = horizon\n",
    "        self.n_neurons = n_neurons\n",
    "        self.n_layers = n_layers\n",
    "        \n",
    "        #This block contains a stack of 4 fully connected layers\n",
    "        #Different way to write a for loop in one line\n",
    "        self.hidden = [tf.keras.layers.Dense(n_neurons, activation='relu') for _ in range(n_layers)]\n",
    "        #Output of the block is theta with linear activation\n",
    "        self.theta_layer = tf.keras.layers.Dense(theta_size, activation=\"linear\", name='theta')\n",
    "        \n",
    "    def call(self, inputs):\n",
    "        x = inputs\n",
    "        for layer in self.hidden:\n",
    "            y = layer(x)\n",
    "            theta = self.theta_layer(y)\n",
    "        # Output the backcast and forecast from theta\n",
    "        backcast, forecast = theta[:, :self.input_size], theta[:, -self.horizon:]\n",
    "        return backcast, forecast"
   ]
  },
  {
   "cell_type": "code",
   "execution_count": 96,
   "id": "e4bcce9c",
   "metadata": {},
   "outputs": [],
   "source": [
    "# Set up dummy NBeatsBlock layer to represent inputs and outputs\n",
    "dummy_nbeats_block_layer = NBeatsBlock(input_size=WINDOW_SIZE, theta_size=WINDOW_SIZE+HORIZON, # backcast + forecast \n",
    "                                       horizon=HORIZON, n_neurons=128, n_layers=4)"
   ]
  },
  {
   "cell_type": "code",
   "execution_count": 97,
   "id": "3065d9b7",
   "metadata": {},
   "outputs": [
    {
     "data": {
      "text/plain": [
       "<tf.Tensor: shape=(1, 7), dtype=int32, numpy=array([[1, 2, 3, 4, 5, 6, 7]], dtype=int32)>"
      ]
     },
     "execution_count": 97,
     "metadata": {},
     "output_type": "execute_result"
    }
   ],
   "source": [
    "# Create dummy inputs (have to be same size as input_size)\n",
    "dummy_inputs = tf.expand_dims(tf.range(WINDOW_SIZE) + 1, axis=0) # input shape to the model has to reflect Dense layer input requirements (ndim=2)\n",
    "dummy_inputs"
   ]
  },
  {
   "cell_type": "code",
   "execution_count": 98,
   "id": "b2032551",
   "metadata": {},
   "outputs": [
    {
     "name": "stdout",
     "output_type": "stream",
     "text": [
      "Backcast: [-1.4274161   3.9625466   1.2488292  -2.1726203  -0.54103184 -2.142897\n",
      "  0.86971104]\n",
      "Forecast: -0.7953492999076843\n"
     ]
    }
   ],
   "source": [
    "# Pass dummy inputs to dummy NBeatsBlock layer\n",
    "backcast, forecast = dummy_nbeats_block_layer(dummy_inputs)\n",
    "# These are the activation outputs of the theta layer (they'll be random due to no training of the model)\n",
    "print(f\"Backcast: {tf.squeeze(backcast.numpy())}\")\n",
    "print(f\"Forecast: {tf.squeeze(forecast.numpy())}\")"
   ]
  },
  {
   "cell_type": "code",
   "execution_count": 99,
   "id": "13f27c7a",
   "metadata": {},
   "outputs": [],
   "source": [
    "#Preparing data for N-Beats Algorithm\n",
    "HORIZON = 1 # how far to predict forward\n",
    "WINDOW_SIZE = 7 # how far to lookback"
   ]
  },
  {
   "cell_type": "code",
   "execution_count": 100,
   "id": "d6c0dab9",
   "metadata": {},
   "outputs": [
    {
     "data": {
      "text/html": [
       "<div>\n",
       "<style scoped>\n",
       "    .dataframe tbody tr th:only-of-type {\n",
       "        vertical-align: middle;\n",
       "    }\n",
       "\n",
       "    .dataframe tbody tr th {\n",
       "        vertical-align: top;\n",
       "    }\n",
       "\n",
       "    .dataframe thead th {\n",
       "        text-align: right;\n",
       "    }\n",
       "</style>\n",
       "<table border=\"1\" class=\"dataframe\">\n",
       "  <thead>\n",
       "    <tr style=\"text-align: right;\">\n",
       "      <th></th>\n",
       "      <th>Price</th>\n",
       "    </tr>\n",
       "    <tr>\n",
       "      <th>Date</th>\n",
       "      <th></th>\n",
       "    </tr>\n",
       "  </thead>\n",
       "  <tbody>\n",
       "    <tr>\n",
       "      <th>2013-10-01</th>\n",
       "      <td>123.65499</td>\n",
       "    </tr>\n",
       "    <tr>\n",
       "      <th>2013-10-02</th>\n",
       "      <td>125.45500</td>\n",
       "    </tr>\n",
       "    <tr>\n",
       "      <th>2013-10-03</th>\n",
       "      <td>108.58483</td>\n",
       "    </tr>\n",
       "    <tr>\n",
       "      <th>2013-10-04</th>\n",
       "      <td>118.67466</td>\n",
       "    </tr>\n",
       "    <tr>\n",
       "      <th>2013-10-05</th>\n",
       "      <td>121.33866</td>\n",
       "    </tr>\n",
       "  </tbody>\n",
       "</table>\n",
       "</div>"
      ],
      "text/plain": [
       "                Price\n",
       "Date                 \n",
       "2013-10-01  123.65499\n",
       "2013-10-02  125.45500\n",
       "2013-10-03  108.58483\n",
       "2013-10-04  118.67466\n",
       "2013-10-05  121.33866"
      ]
     },
     "execution_count": 100,
     "metadata": {},
     "output_type": "execute_result"
    }
   ],
   "source": [
    "bitcoin_prices.head()"
   ]
  },
  {
   "cell_type": "code",
   "execution_count": 101,
   "id": "63e077c5",
   "metadata": {},
   "outputs": [
    {
     "data": {
      "text/html": [
       "<div>\n",
       "<style scoped>\n",
       "    .dataframe tbody tr th:only-of-type {\n",
       "        vertical-align: middle;\n",
       "    }\n",
       "\n",
       "    .dataframe tbody tr th {\n",
       "        vertical-align: top;\n",
       "    }\n",
       "\n",
       "    .dataframe thead th {\n",
       "        text-align: right;\n",
       "    }\n",
       "</style>\n",
       "<table border=\"1\" class=\"dataframe\">\n",
       "  <thead>\n",
       "    <tr style=\"text-align: right;\">\n",
       "      <th></th>\n",
       "      <th>Price</th>\n",
       "      <th>Price+1</th>\n",
       "      <th>Price+2</th>\n",
       "      <th>Price+3</th>\n",
       "      <th>Price+4</th>\n",
       "      <th>Price+5</th>\n",
       "      <th>Price+6</th>\n",
       "      <th>Price+7</th>\n",
       "    </tr>\n",
       "    <tr>\n",
       "      <th>Date</th>\n",
       "      <th></th>\n",
       "      <th></th>\n",
       "      <th></th>\n",
       "      <th></th>\n",
       "      <th></th>\n",
       "      <th></th>\n",
       "      <th></th>\n",
       "      <th></th>\n",
       "    </tr>\n",
       "  </thead>\n",
       "  <tbody>\n",
       "    <tr>\n",
       "      <th>2013-10-08</th>\n",
       "      <td>123.03300</td>\n",
       "      <td>121.79500</td>\n",
       "      <td>120.65533</td>\n",
       "      <td>121.33866</td>\n",
       "      <td>118.67466</td>\n",
       "      <td>108.58483</td>\n",
       "      <td>125.45500</td>\n",
       "      <td>123.65499</td>\n",
       "    </tr>\n",
       "    <tr>\n",
       "      <th>2013-10-09</th>\n",
       "      <td>124.04900</td>\n",
       "      <td>123.03300</td>\n",
       "      <td>121.79500</td>\n",
       "      <td>120.65533</td>\n",
       "      <td>121.33866</td>\n",
       "      <td>118.67466</td>\n",
       "      <td>108.58483</td>\n",
       "      <td>125.45500</td>\n",
       "    </tr>\n",
       "    <tr>\n",
       "      <th>2013-10-10</th>\n",
       "      <td>125.96116</td>\n",
       "      <td>124.04900</td>\n",
       "      <td>123.03300</td>\n",
       "      <td>121.79500</td>\n",
       "      <td>120.65533</td>\n",
       "      <td>121.33866</td>\n",
       "      <td>118.67466</td>\n",
       "      <td>108.58483</td>\n",
       "    </tr>\n",
       "    <tr>\n",
       "      <th>2013-10-11</th>\n",
       "      <td>125.27966</td>\n",
       "      <td>125.96116</td>\n",
       "      <td>124.04900</td>\n",
       "      <td>123.03300</td>\n",
       "      <td>121.79500</td>\n",
       "      <td>120.65533</td>\n",
       "      <td>121.33866</td>\n",
       "      <td>118.67466</td>\n",
       "    </tr>\n",
       "    <tr>\n",
       "      <th>2013-10-12</th>\n",
       "      <td>125.92750</td>\n",
       "      <td>125.27966</td>\n",
       "      <td>125.96116</td>\n",
       "      <td>124.04900</td>\n",
       "      <td>123.03300</td>\n",
       "      <td>121.79500</td>\n",
       "      <td>120.65533</td>\n",
       "      <td>121.33866</td>\n",
       "    </tr>\n",
       "  </tbody>\n",
       "</table>\n",
       "</div>"
      ],
      "text/plain": [
       "                Price    Price+1    Price+2    Price+3    Price+4    Price+5  \\\n",
       "Date                                                                           \n",
       "2013-10-08  123.03300  121.79500  120.65533  121.33866  118.67466  108.58483   \n",
       "2013-10-09  124.04900  123.03300  121.79500  120.65533  121.33866  118.67466   \n",
       "2013-10-10  125.96116  124.04900  123.03300  121.79500  120.65533  121.33866   \n",
       "2013-10-11  125.27966  125.96116  124.04900  123.03300  121.79500  120.65533   \n",
       "2013-10-12  125.92750  125.27966  125.96116  124.04900  123.03300  121.79500   \n",
       "\n",
       "              Price+6    Price+7  \n",
       "Date                              \n",
       "2013-10-08  125.45500  123.65499  \n",
       "2013-10-09  108.58483  125.45500  \n",
       "2013-10-10  118.67466  108.58483  \n",
       "2013-10-11  121.33866  118.67466  \n",
       "2013-10-12  120.65533  121.33866  "
      ]
     },
     "execution_count": 101,
     "metadata": {},
     "output_type": "execute_result"
    }
   ],
   "source": [
    "# Add windowed columns\n",
    "bitcoin_prices_nbeats = bitcoin_prices.copy()\n",
    "for i in range(WINDOW_SIZE):\n",
    "    bitcoin_prices_nbeats[f\"Price+{i+1}\"] = bitcoin_prices_nbeats[\"Price\"].shift(periods=i+1)\n",
    "bitcoin_prices_nbeats.dropna().head()"
   ]
  },
  {
   "cell_type": "code",
   "execution_count": 102,
   "id": "4b601b4d",
   "metadata": {},
   "outputs": [
    {
     "data": {
      "text/plain": [
       "(2235, 2235, 559, 559)"
      ]
     },
     "execution_count": 102,
     "metadata": {},
     "output_type": "execute_result"
    }
   ],
   "source": [
    "# Make features and labels\n",
    "X = bitcoin_prices_nbeats.dropna().drop(\"Price\", axis=1)\n",
    "y = bitcoin_prices_nbeats.dropna()[\"Price\"]\n",
    "\n",
    "# Make train and test sets\n",
    "split_size = int(len(X) * 0.8)\n",
    "X_train, y_train = X[:split_size], y[:split_size]\n",
    "X_test, y_test = X[split_size:], y[split_size:]\n",
    "len(X_train), len(y_train), len(X_test), len(y_test)"
   ]
  },
  {
   "cell_type": "code",
   "execution_count": 103,
   "id": "ccd460a7",
   "metadata": {},
   "outputs": [
    {
     "data": {
      "text/plain": [
       "(<PrefetchDataset shapes: ((None, 7), (None,)), types: (tf.float64, tf.float64)>,\n",
       " <PrefetchDataset shapes: ((None, 7), (None,)), types: (tf.float64, tf.float64)>)"
      ]
     },
     "execution_count": 103,
     "metadata": {},
     "output_type": "execute_result"
    }
   ],
   "source": [
    "# Turn train and test arrays into tensor Datasets\n",
    "train_features_dataset = tf.data.Dataset.from_tensor_slices(X_train)\n",
    "train_labels_dataset = tf.data.Dataset.from_tensor_slices(y_train)\n",
    "\n",
    "test_features_dataset = tf.data.Dataset.from_tensor_slices(X_test)\n",
    "test_labels_dataset = tf.data.Dataset.from_tensor_slices(y_test)\n",
    "\n",
    "# Combine features & labels\n",
    "train_dataset = tf.data.Dataset.zip((train_features_dataset, train_labels_dataset))\n",
    "test_dataset = tf.data.Dataset.zip((test_features_dataset, test_labels_dataset))\n",
    "\n",
    "# Batch and prefetch for optimal performance\n",
    "BATCH_SIZE = 1024 # taken from Appendix D in N-BEATS paper\n",
    "train_dataset = train_dataset.batch(BATCH_SIZE).prefetch(tf.data.AUTOTUNE)\n",
    "test_dataset = test_dataset.batch(BATCH_SIZE).prefetch(tf.data.AUTOTUNE)\n",
    "\n",
    "train_dataset, test_dataset"
   ]
  },
  {
   "cell_type": "code",
   "execution_count": 104,
   "id": "8e0a9c64",
   "metadata": {},
   "outputs": [
    {
     "data": {
      "text/plain": [
       "(7, 8)"
      ]
     },
     "execution_count": 104,
     "metadata": {},
     "output_type": "execute_result"
    }
   ],
   "source": [
    "# Values from N-BEATS paper Figure 1 and Table 18/Appendix D\n",
    "N_EPOCHS = 5000 # called \"Iterations\" in Table 18\n",
    "N_NEURONS = 512 # called \"Width\" in Table 18\n",
    "N_LAYERS = 4\n",
    "N_STACKS = 30\n",
    "\n",
    "INPUT_SIZE = WINDOW_SIZE * HORIZON # called \"Lookback\" in Table 18\n",
    "THETA_SIZE = INPUT_SIZE + HORIZON\n",
    "\n",
    "INPUT_SIZE, THETA_SIZE"
   ]
  },
  {
   "cell_type": "code",
   "execution_count": 105,
   "id": "244eb069",
   "metadata": {},
   "outputs": [
    {
     "name": "stdout",
     "output_type": "stream",
     "text": [
      "Input tensors: [10 11 12 13 14 15 16 17 18 19] & [0 1 2 3 4 5 6 7 8 9]\n",
      "Subtracted: [10 10 10 10 10 10 10 10 10 10]\n",
      "Added: [10 12 14 16 18 20 22 24 26 28]\n"
     ]
    }
   ],
   "source": [
    "# Make tensors\n",
    "tensor_1 = tf.range(10) + 10\n",
    "tensor_2 = tf.range(10)\n",
    "\n",
    "# Subtract\n",
    "subtracted = layers.subtract([tensor_1, tensor_2])\n",
    "\n",
    "# Add\n",
    "added = layers.add([tensor_1, tensor_2])\n",
    "\n",
    "print(f\"Input tensors: {tensor_1.numpy()} & {tensor_2.numpy()}\")\n",
    "print(f\"Subtracted: {subtracted.numpy()}\")\n",
    "print(f\"Added: {added.numpy()}\")"
   ]
  },
  {
   "cell_type": "code",
   "execution_count": 107,
   "id": "4e67b210",
   "metadata": {},
   "outputs": [
    {
     "name": "stdout",
     "output_type": "stream",
     "text": [
      "WARNING:tensorflow:Gradients do not exist for variables ['InitialBlock/dense_379/kernel:0', 'InitialBlock/dense_379/bias:0', 'InitialBlock/dense_380/kernel:0', 'InitialBlock/dense_380/bias:0', 'InitialBlock/dense_381/kernel:0', 'InitialBlock/dense_381/bias:0', 'NBeatsBlock_0/dense_383/kernel:0', 'NBeatsBlock_0/dense_383/bias:0', 'NBeatsBlock_0/dense_384/kernel:0', 'NBeatsBlock_0/dense_384/bias:0', 'NBeatsBlock_0/dense_385/kernel:0', 'NBeatsBlock_0/dense_385/bias:0', 'NBeatsBlock_1/dense_387/kernel:0', 'NBeatsBlock_1/dense_387/bias:0', 'NBeatsBlock_1/dense_388/kernel:0', 'NBeatsBlock_1/dense_388/bias:0', 'NBeatsBlock_1/dense_389/kernel:0', 'NBeatsBlock_1/dense_389/bias:0', 'NBeatsBlock_2/dense_391/kernel:0', 'NBeatsBlock_2/dense_391/bias:0', 'NBeatsBlock_2/dense_392/kernel:0', 'NBeatsBlock_2/dense_392/bias:0', 'NBeatsBlock_2/dense_393/kernel:0', 'NBeatsBlock_2/dense_393/bias:0', 'NBeatsBlock_3/dense_395/kernel:0', 'NBeatsBlock_3/dense_395/bias:0', 'NBeatsBlock_3/dense_396/kernel:0', 'NBeatsBlock_3/dense_396/bias:0', 'NBeatsBlock_3/dense_397/kernel:0', 'NBeatsBlock_3/dense_397/bias:0', 'NBeatsBlock_4/dense_399/kernel:0', 'NBeatsBlock_4/dense_399/bias:0', 'NBeatsBlock_4/dense_400/kernel:0', 'NBeatsBlock_4/dense_400/bias:0', 'NBeatsBlock_4/dense_401/kernel:0', 'NBeatsBlock_4/dense_401/bias:0', 'NBeatsBlock_5/dense_403/kernel:0', 'NBeatsBlock_5/dense_403/bias:0', 'NBeatsBlock_5/dense_404/kernel:0', 'NBeatsBlock_5/dense_404/bias:0', 'NBeatsBlock_5/dense_405/kernel:0', 'NBeatsBlock_5/dense_405/bias:0', 'NBeatsBlock_6/dense_407/kernel:0', 'NBeatsBlock_6/dense_407/bias:0', 'NBeatsBlock_6/dense_408/kernel:0', 'NBeatsBlock_6/dense_408/bias:0', 'NBeatsBlock_6/dense_409/kernel:0', 'NBeatsBlock_6/dense_409/bias:0', 'NBeatsBlock_7/dense_411/kernel:0', 'NBeatsBlock_7/dense_411/bias:0', 'NBeatsBlock_7/dense_412/kernel:0', 'NBeatsBlock_7/dense_412/bias:0', 'NBeatsBlock_7/dense_413/kernel:0', 'NBeatsBlock_7/dense_413/bias:0', 'NBeatsBlock_8/dense_415/kernel:0', 'NBeatsBlock_8/dense_415/bias:0', 'NBeatsBlock_8/dense_416/kernel:0', 'NBeatsBlock_8/dense_416/bias:0', 'NBeatsBlock_8/dense_417/kernel:0', 'NBeatsBlock_8/dense_417/bias:0', 'NBeatsBlock_9/dense_419/kernel:0', 'NBeatsBlock_9/dense_419/bias:0', 'NBeatsBlock_9/dense_420/kernel:0', 'NBeatsBlock_9/dense_420/bias:0', 'NBeatsBlock_9/dense_421/kernel:0', 'NBeatsBlock_9/dense_421/bias:0', 'NBeatsBlock_10/dense_423/kernel:0', 'NBeatsBlock_10/dense_423/bias:0', 'NBeatsBlock_10/dense_424/kernel:0', 'NBeatsBlock_10/dense_424/bias:0', 'NBeatsBlock_10/dense_425/kernel:0', 'NBeatsBlock_10/dense_425/bias:0', 'NBeatsBlock_11/dense_427/kernel:0', 'NBeatsBlock_11/dense_427/bias:0', 'NBeatsBlock_11/dense_428/kernel:0', 'NBeatsBlock_11/dense_428/bias:0', 'NBeatsBlock_11/dense_429/kernel:0', 'NBeatsBlock_11/dense_429/bias:0', 'NBeatsBlock_12/dense_431/kernel:0', 'NBeatsBlock_12/dense_431/bias:0', 'NBeatsBlock_12/dense_432/kernel:0', 'NBeatsBlock_12/dense_432/bias:0', 'NBeatsBlock_12/dense_433/kernel:0', 'NBeatsBlock_12/dense_433/bias:0', 'NBeatsBlock_13/dense_435/kernel:0', 'NBeatsBlock_13/dense_435/bias:0', 'NBeatsBlock_13/dense_436/kernel:0', 'NBeatsBlock_13/dense_436/bias:0', 'NBeatsBlock_13/dense_437/kernel:0', 'NBeatsBlock_13/dense_437/bias:0', 'NBeatsBlock_14/dense_439/kernel:0', 'NBeatsBlock_14/dense_439/bias:0', 'NBeatsBlock_14/dense_440/kernel:0', 'NBeatsBlock_14/dense_440/bias:0', 'NBeatsBlock_14/dense_441/kernel:0', 'NBeatsBlock_14/dense_441/bias:0', 'NBeatsBlock_15/dense_443/kernel:0', 'NBeatsBlock_15/dense_443/bias:0', 'NBeatsBlock_15/dense_444/kernel:0', 'NBeatsBlock_15/dense_444/bias:0', 'NBeatsBlock_15/dense_445/kernel:0', 'NBeatsBlock_15/dense_445/bias:0', 'NBeatsBlock_16/dense_447/kernel:0', 'NBeatsBlock_16/dense_447/bias:0', 'NBeatsBlock_16/dense_448/kernel:0', 'NBeatsBlock_16/dense_448/bias:0', 'NBeatsBlock_16/dense_449/kernel:0', 'NBeatsBlock_16/dense_449/bias:0', 'NBeatsBlock_17/dense_451/kernel:0', 'NBeatsBlock_17/dense_451/bias:0', 'NBeatsBlock_17/dense_452/kernel:0', 'NBeatsBlock_17/dense_452/bias:0', 'NBeatsBlock_17/dense_453/kernel:0', 'NBeatsBlock_17/dense_453/bias:0', 'NBeatsBlock_18/dense_455/kernel:0', 'NBeatsBlock_18/dense_455/bias:0', 'NBeatsBlock_18/dense_456/kernel:0', 'NBeatsBlock_18/dense_456/bias:0', 'NBeatsBlock_18/dense_457/kernel:0', 'NBeatsBlock_18/dense_457/bias:0', 'NBeatsBlock_19/dense_459/kernel:0', 'NBeatsBlock_19/dense_459/bias:0', 'NBeatsBlock_19/dense_460/kernel:0', 'NBeatsBlock_19/dense_460/bias:0', 'NBeatsBlock_19/dense_461/kernel:0', 'NBeatsBlock_19/dense_461/bias:0', 'NBeatsBlock_20/dense_463/kernel:0', 'NBeatsBlock_20/dense_463/bias:0', 'NBeatsBlock_20/dense_464/kernel:0', 'NBeatsBlock_20/dense_464/bias:0', 'NBeatsBlock_20/dense_465/kernel:0', 'NBeatsBlock_20/dense_465/bias:0', 'NBeatsBlock_21/dense_467/kernel:0', 'NBeatsBlock_21/dense_467/bias:0', 'NBeatsBlock_21/dense_468/kernel:0', 'NBeatsBlock_21/dense_468/bias:0', 'NBeatsBlock_21/dense_469/kernel:0', 'NBeatsBlock_21/dense_469/bias:0', 'NBeatsBlock_22/dense_471/kernel:0', 'NBeatsBlock_22/dense_471/bias:0', 'NBeatsBlock_22/dense_472/kernel:0', 'NBeatsBlock_22/dense_472/bias:0', 'NBeatsBlock_22/dense_473/kernel:0', 'NBeatsBlock_22/dense_473/bias:0', 'NBeatsBlock_23/dense_475/kernel:0', 'NBeatsBlock_23/dense_475/bias:0', 'NBeatsBlock_23/dense_476/kernel:0', 'NBeatsBlock_23/dense_476/bias:0', 'NBeatsBlock_23/dense_477/kernel:0', 'NBeatsBlock_23/dense_477/bias:0', 'NBeatsBlock_24/dense_479/kernel:0', 'NBeatsBlock_24/dense_479/bias:0', 'NBeatsBlock_24/dense_480/kernel:0', 'NBeatsBlock_24/dense_480/bias:0', 'NBeatsBlock_24/dense_481/kernel:0', 'NBeatsBlock_24/dense_481/bias:0', 'NBeatsBlock_25/dense_483/kernel:0', 'NBeatsBlock_25/dense_483/bias:0', 'NBeatsBlock_25/dense_484/kernel:0', 'NBeatsBlock_25/dense_484/bias:0', 'NBeatsBlock_25/dense_485/kernel:0', 'NBeatsBlock_25/dense_485/bias:0', 'NBeatsBlock_26/dense_487/kernel:0', 'NBeatsBlock_26/dense_487/bias:0', 'NBeatsBlock_26/dense_488/kernel:0', 'NBeatsBlock_26/dense_488/bias:0', 'NBeatsBlock_26/dense_489/kernel:0', 'NBeatsBlock_26/dense_489/bias:0', 'NBeatsBlock_27/dense_491/kernel:0', 'NBeatsBlock_27/dense_491/bias:0', 'NBeatsBlock_27/dense_492/kernel:0', 'NBeatsBlock_27/dense_492/bias:0', 'NBeatsBlock_27/dense_493/kernel:0', 'NBeatsBlock_27/dense_493/bias:0', 'NBeatsBlock_28/dense_495/kernel:0', 'NBeatsBlock_28/dense_495/bias:0', 'NBeatsBlock_28/dense_496/kernel:0', 'NBeatsBlock_28/dense_496/bias:0', 'NBeatsBlock_28/dense_497/kernel:0', 'NBeatsBlock_28/dense_497/bias:0'] when minimizing the loss.\n",
      "WARNING:tensorflow:Gradients do not exist for variables ['InitialBlock/dense_379/kernel:0', 'InitialBlock/dense_379/bias:0', 'InitialBlock/dense_380/kernel:0', 'InitialBlock/dense_380/bias:0', 'InitialBlock/dense_381/kernel:0', 'InitialBlock/dense_381/bias:0', 'NBeatsBlock_0/dense_383/kernel:0', 'NBeatsBlock_0/dense_383/bias:0', 'NBeatsBlock_0/dense_384/kernel:0', 'NBeatsBlock_0/dense_384/bias:0', 'NBeatsBlock_0/dense_385/kernel:0', 'NBeatsBlock_0/dense_385/bias:0', 'NBeatsBlock_1/dense_387/kernel:0', 'NBeatsBlock_1/dense_387/bias:0', 'NBeatsBlock_1/dense_388/kernel:0', 'NBeatsBlock_1/dense_388/bias:0', 'NBeatsBlock_1/dense_389/kernel:0', 'NBeatsBlock_1/dense_389/bias:0', 'NBeatsBlock_2/dense_391/kernel:0', 'NBeatsBlock_2/dense_391/bias:0', 'NBeatsBlock_2/dense_392/kernel:0', 'NBeatsBlock_2/dense_392/bias:0', 'NBeatsBlock_2/dense_393/kernel:0', 'NBeatsBlock_2/dense_393/bias:0', 'NBeatsBlock_3/dense_395/kernel:0', 'NBeatsBlock_3/dense_395/bias:0', 'NBeatsBlock_3/dense_396/kernel:0', 'NBeatsBlock_3/dense_396/bias:0', 'NBeatsBlock_3/dense_397/kernel:0', 'NBeatsBlock_3/dense_397/bias:0', 'NBeatsBlock_4/dense_399/kernel:0', 'NBeatsBlock_4/dense_399/bias:0', 'NBeatsBlock_4/dense_400/kernel:0', 'NBeatsBlock_4/dense_400/bias:0', 'NBeatsBlock_4/dense_401/kernel:0', 'NBeatsBlock_4/dense_401/bias:0', 'NBeatsBlock_5/dense_403/kernel:0', 'NBeatsBlock_5/dense_403/bias:0', 'NBeatsBlock_5/dense_404/kernel:0', 'NBeatsBlock_5/dense_404/bias:0', 'NBeatsBlock_5/dense_405/kernel:0', 'NBeatsBlock_5/dense_405/bias:0', 'NBeatsBlock_6/dense_407/kernel:0', 'NBeatsBlock_6/dense_407/bias:0', 'NBeatsBlock_6/dense_408/kernel:0', 'NBeatsBlock_6/dense_408/bias:0', 'NBeatsBlock_6/dense_409/kernel:0', 'NBeatsBlock_6/dense_409/bias:0', 'NBeatsBlock_7/dense_411/kernel:0', 'NBeatsBlock_7/dense_411/bias:0', 'NBeatsBlock_7/dense_412/kernel:0', 'NBeatsBlock_7/dense_412/bias:0', 'NBeatsBlock_7/dense_413/kernel:0', 'NBeatsBlock_7/dense_413/bias:0', 'NBeatsBlock_8/dense_415/kernel:0', 'NBeatsBlock_8/dense_415/bias:0', 'NBeatsBlock_8/dense_416/kernel:0', 'NBeatsBlock_8/dense_416/bias:0', 'NBeatsBlock_8/dense_417/kernel:0', 'NBeatsBlock_8/dense_417/bias:0', 'NBeatsBlock_9/dense_419/kernel:0', 'NBeatsBlock_9/dense_419/bias:0', 'NBeatsBlock_9/dense_420/kernel:0', 'NBeatsBlock_9/dense_420/bias:0', 'NBeatsBlock_9/dense_421/kernel:0', 'NBeatsBlock_9/dense_421/bias:0', 'NBeatsBlock_10/dense_423/kernel:0', 'NBeatsBlock_10/dense_423/bias:0', 'NBeatsBlock_10/dense_424/kernel:0', 'NBeatsBlock_10/dense_424/bias:0', 'NBeatsBlock_10/dense_425/kernel:0', 'NBeatsBlock_10/dense_425/bias:0', 'NBeatsBlock_11/dense_427/kernel:0', 'NBeatsBlock_11/dense_427/bias:0', 'NBeatsBlock_11/dense_428/kernel:0', 'NBeatsBlock_11/dense_428/bias:0', 'NBeatsBlock_11/dense_429/kernel:0', 'NBeatsBlock_11/dense_429/bias:0', 'NBeatsBlock_12/dense_431/kernel:0', 'NBeatsBlock_12/dense_431/bias:0', 'NBeatsBlock_12/dense_432/kernel:0', 'NBeatsBlock_12/dense_432/bias:0', 'NBeatsBlock_12/dense_433/kernel:0', 'NBeatsBlock_12/dense_433/bias:0', 'NBeatsBlock_13/dense_435/kernel:0', 'NBeatsBlock_13/dense_435/bias:0', 'NBeatsBlock_13/dense_436/kernel:0', 'NBeatsBlock_13/dense_436/bias:0', 'NBeatsBlock_13/dense_437/kernel:0', 'NBeatsBlock_13/dense_437/bias:0', 'NBeatsBlock_14/dense_439/kernel:0', 'NBeatsBlock_14/dense_439/bias:0', 'NBeatsBlock_14/dense_440/kernel:0', 'NBeatsBlock_14/dense_440/bias:0', 'NBeatsBlock_14/dense_441/kernel:0', 'NBeatsBlock_14/dense_441/bias:0', 'NBeatsBlock_15/dense_443/kernel:0', 'NBeatsBlock_15/dense_443/bias:0', 'NBeatsBlock_15/dense_444/kernel:0', 'NBeatsBlock_15/dense_444/bias:0', 'NBeatsBlock_15/dense_445/kernel:0', 'NBeatsBlock_15/dense_445/bias:0', 'NBeatsBlock_16/dense_447/kernel:0', 'NBeatsBlock_16/dense_447/bias:0', 'NBeatsBlock_16/dense_448/kernel:0', 'NBeatsBlock_16/dense_448/bias:0', 'NBeatsBlock_16/dense_449/kernel:0', 'NBeatsBlock_16/dense_449/bias:0', 'NBeatsBlock_17/dense_451/kernel:0', 'NBeatsBlock_17/dense_451/bias:0', 'NBeatsBlock_17/dense_452/kernel:0', 'NBeatsBlock_17/dense_452/bias:0', 'NBeatsBlock_17/dense_453/kernel:0', 'NBeatsBlock_17/dense_453/bias:0', 'NBeatsBlock_18/dense_455/kernel:0', 'NBeatsBlock_18/dense_455/bias:0', 'NBeatsBlock_18/dense_456/kernel:0', 'NBeatsBlock_18/dense_456/bias:0', 'NBeatsBlock_18/dense_457/kernel:0', 'NBeatsBlock_18/dense_457/bias:0', 'NBeatsBlock_19/dense_459/kernel:0', 'NBeatsBlock_19/dense_459/bias:0', 'NBeatsBlock_19/dense_460/kernel:0', 'NBeatsBlock_19/dense_460/bias:0', 'NBeatsBlock_19/dense_461/kernel:0', 'NBeatsBlock_19/dense_461/bias:0', 'NBeatsBlock_20/dense_463/kernel:0', 'NBeatsBlock_20/dense_463/bias:0', 'NBeatsBlock_20/dense_464/kernel:0', 'NBeatsBlock_20/dense_464/bias:0', 'NBeatsBlock_20/dense_465/kernel:0', 'NBeatsBlock_20/dense_465/bias:0', 'NBeatsBlock_21/dense_467/kernel:0', 'NBeatsBlock_21/dense_467/bias:0', 'NBeatsBlock_21/dense_468/kernel:0', 'NBeatsBlock_21/dense_468/bias:0', 'NBeatsBlock_21/dense_469/kernel:0', 'NBeatsBlock_21/dense_469/bias:0', 'NBeatsBlock_22/dense_471/kernel:0', 'NBeatsBlock_22/dense_471/bias:0', 'NBeatsBlock_22/dense_472/kernel:0', 'NBeatsBlock_22/dense_472/bias:0', 'NBeatsBlock_22/dense_473/kernel:0', 'NBeatsBlock_22/dense_473/bias:0', 'NBeatsBlock_23/dense_475/kernel:0', 'NBeatsBlock_23/dense_475/bias:0', 'NBeatsBlock_23/dense_476/kernel:0', 'NBeatsBlock_23/dense_476/bias:0', 'NBeatsBlock_23/dense_477/kernel:0', 'NBeatsBlock_23/dense_477/bias:0', 'NBeatsBlock_24/dense_479/kernel:0', 'NBeatsBlock_24/dense_479/bias:0', 'NBeatsBlock_24/dense_480/kernel:0', 'NBeatsBlock_24/dense_480/bias:0', 'NBeatsBlock_24/dense_481/kernel:0', 'NBeatsBlock_24/dense_481/bias:0', 'NBeatsBlock_25/dense_483/kernel:0', 'NBeatsBlock_25/dense_483/bias:0', 'NBeatsBlock_25/dense_484/kernel:0', 'NBeatsBlock_25/dense_484/bias:0', 'NBeatsBlock_25/dense_485/kernel:0', 'NBeatsBlock_25/dense_485/bias:0', 'NBeatsBlock_26/dense_487/kernel:0', 'NBeatsBlock_26/dense_487/bias:0', 'NBeatsBlock_26/dense_488/kernel:0', 'NBeatsBlock_26/dense_488/bias:0', 'NBeatsBlock_26/dense_489/kernel:0', 'NBeatsBlock_26/dense_489/bias:0', 'NBeatsBlock_27/dense_491/kernel:0', 'NBeatsBlock_27/dense_491/bias:0', 'NBeatsBlock_27/dense_492/kernel:0', 'NBeatsBlock_27/dense_492/bias:0', 'NBeatsBlock_27/dense_493/kernel:0', 'NBeatsBlock_27/dense_493/bias:0', 'NBeatsBlock_28/dense_495/kernel:0', 'NBeatsBlock_28/dense_495/bias:0', 'NBeatsBlock_28/dense_496/kernel:0', 'NBeatsBlock_28/dense_496/bias:0', 'NBeatsBlock_28/dense_497/kernel:0', 'NBeatsBlock_28/dense_497/bias:0'] when minimizing the loss.\n"
     ]
    },
    {
     "name": "stdout",
     "output_type": "stream",
     "text": [
      "\n",
      "Epoch 00402: ReduceLROnPlateau reducing learning rate to 0.00010000000474974513.\n",
      "\n",
      "Epoch 00502: ReduceLROnPlateau reducing learning rate to 1.0000000474974514e-05.\n"
     ]
    },
    {
     "data": {
      "text/plain": [
       "<tensorflow.python.keras.callbacks.History at 0x15d2b8100>"
      ]
     },
     "execution_count": 107,
     "metadata": {},
     "output_type": "execute_result"
    }
   ],
   "source": [
    "tf.random.set_seed(42)\n",
    "\n",
    "# Setup NBEATs Block layer\n",
    "nbeats_block_layer = NBeatsBlock(input_size=INPUT_SIZE, theta_size=THETA_SIZE, horizon=HORIZON, n_neurons=N_NEURONS,\n",
    "                                 n_layers=N_LAYERS, name=\"InitialBlock\")\n",
    "\n",
    "# Build stacks of blocks\n",
    "stack_input = layers.Input(shape=(INPUT_SIZE), name=\"stack_input\")\n",
    "\n",
    "# Create initial backcast and forecast input\n",
    "residuals, forecast = nbeats_block_layer(stack_input)\n",
    "\n",
    "# Create stacks of blocks\n",
    "for i, _ in enumerate(range(N_STACKS-1)):\n",
    "    \n",
    "\n",
    "    # Use the NBeatsBlock to calculate the backcast as well as block forecast\n",
    "    backcast, block_forecast = NBeatsBlock(input_size=INPUT_SIZE, theta_size=THETA_SIZE, horizon=HORIZON,\n",
    "      n_neurons=N_NEURONS, n_layers=N_LAYERS, name=f\"NBeatsBlock_{i}\")(residuals) # pass it in residuals (the backcast)\n",
    "\n",
    "    # Create the double residual stacking\n",
    "    residuals = layers.subtract([residuals, backcast], name=f\"subtract_{i}\")\n",
    "    forecast = layers.add([forecast, block_forecast], name=f\"add_{i}\")\n",
    "\n",
    "# Put the stack model together\n",
    "stack_model = tf.keras.Model(inputs=stack_input, \n",
    "                             outputs=forecast, \n",
    "                             name=\"Stack_Model\")\n",
    "\n",
    "# Compile\n",
    "stack_model.compile(loss=\"mae\",\n",
    "                    optimizer=tf.keras.optimizers.Adam(0.001),\n",
    "                    metrics=[\"mae\", \"mse\"])\n",
    "\n",
    "# Fit\n",
    "stack_model.fit(train_dataset, epochs=N_EPOCHS, validation_data=test_dataset, verbose=0,\n",
    "                # callbacks=[create_model_checkpoint(model_name=stack_model.name)] # saving model every epoch consumes far too much time\n",
    "                callbacks=[tf.keras.callbacks.EarlyStopping(monitor=\"val_loss\", patience=200, restore_best_weights=True),\n",
    "                           tf.keras.callbacks.ReduceLROnPlateau(monitor=\"val_loss\", patience=100, verbose=1)])"
   ]
  },
  {
   "cell_type": "code",
   "execution_count": 108,
   "id": "4abb6014",
   "metadata": {},
   "outputs": [
    {
     "name": "stdout",
     "output_type": "stream",
     "text": [
      "1/1 [==============================] - 0s 122ms/step - loss: 620.1039 - mae: 620.1039 - mse: 1325721.8750\n"
     ]
    },
    {
     "data": {
      "text/plain": [
       "[620.1038818359375, 620.1038818359375, 1325721.875]"
      ]
     },
     "execution_count": 108,
     "metadata": {},
     "output_type": "execute_result"
    }
   ],
   "source": [
    "stack_model.evaluate(test_dataset)\n"
   ]
  },
  {
   "cell_type": "code",
   "execution_count": 109,
   "id": "cc8ccee6",
   "metadata": {},
   "outputs": [
    {
     "data": {
      "text/plain": [
       "<tf.Tensor: shape=(10,), dtype=float32, numpy=\n",
       "array([8129.7017, 7740.942 , 7330.443 , 7306.809 , 7089.36  , 7182.025 ,\n",
       "       7153.8345, 7385.873 , 7408.472 , 7654.833 ], dtype=float32)>"
      ]
     },
     "execution_count": 109,
     "metadata": {},
     "output_type": "execute_result"
    }
   ],
   "source": [
    "stack_preds = make_forecast(stack_model, test_dataset)\n",
    "stack_preds[:10]"
   ]
  },
  {
   "cell_type": "code",
   "execution_count": 110,
   "id": "dd491765",
   "metadata": {},
   "outputs": [
    {
     "data": {
      "text/plain": [
       "{'mae': 620.1039,\n",
       " 'mse': 1325721.9,\n",
       " 'rmse': 1151.3999,\n",
       " 'mape': 2.7578933,\n",
       " 'mase': 1.0278533}"
      ]
     },
     "execution_count": 110,
     "metadata": {},
     "output_type": "execute_result"
    }
   ],
   "source": [
    "stack_results = evaluate_preds(y_true=y_test,\n",
    "                               y_pred=stack_preds)\n",
    "stack_results"
   ]
  },
  {
   "cell_type": "markdown",
   "id": "3b04f76f",
   "metadata": {},
   "source": [
    "Model 8 - Ensembling Model(Stack different models together)"
   ]
  },
  {
   "cell_type": "code",
   "execution_count": 114,
   "id": "6f960f24",
   "metadata": {},
   "outputs": [
    {
     "name": "stdout",
     "output_type": "stream",
     "text": [
      "Optimizing model by reducing: mae\n",
      "\n",
      "Epoch 00533: ReduceLROnPlateau reducing learning rate to 0.00010000000474974513.\n",
      "\n",
      "Epoch 00633: ReduceLROnPlateau reducing learning rate to 1.0000000474974514e-05.\n",
      "Optimizing model by reducing: mse\n",
      "\n",
      "Epoch 00443: ReduceLROnPlateau reducing learning rate to 0.00010000000474974513.\n",
      "\n",
      "Epoch 00543: ReduceLROnPlateau reducing learning rate to 1.0000000474974514e-05.\n",
      "Optimizing model by reducing: mape\n",
      "\n",
      "Epoch 00237: ReduceLROnPlateau reducing learning rate to 0.00010000000474974513.\n",
      "\n",
      "Epoch 00337: ReduceLROnPlateau reducing learning rate to 1.0000000474974514e-05.\n",
      "WARNING:tensorflow:5 out of the last 22 calls to <function Model.make_predict_function.<locals>.predict_function at 0x1605e8b80> triggered tf.function retracing. Tracing is expensive and the excessive number of tracings could be due to (1) creating @tf.function repeatedly in a loop, (2) passing tensors with different shapes, (3) passing Python objects instead of tensors. For (1), please define your @tf.function outside of the loop. For (2), @tf.function has experimental_relax_shapes=True option that relaxes argument shapes that can avoid unnecessary retracing. For (3), please refer to https://www.tensorflow.org/guide/function#controlling_retracing and https://www.tensorflow.org/api_docs/python/tf/function for  more details.\n"
     ]
    }
   ],
   "source": [
    "tf.random.set_seed(42)\n",
    "\n",
    "preds = {}\n",
    "for loss_function in [\"mae\", \"mse\", \"mape\"]:\n",
    "    print(f\"Optimizing model by reducing: {loss_function}\")\n",
    "\n",
    "  # construct simple model\n",
    "    simple_model = tf.keras.Sequential([layers.Dense(128, activation=\"relu\"), layers.Dense(128, activation=\"relu\"),\n",
    "                                        layers.Dense(HORIZON)])\n",
    "\n",
    "    simple_model.compile(loss=loss_function, optimizer=tf.keras.optimizers.Adam(), metrics=[\"mae\", \"mse\"])\n",
    "\n",
    "    simple_model.fit(train_dataset, epochs=1000, verbose=0, validation_data=test_dataset,\n",
    "                   # Stop when a model stops improving for ~200 epochs and lower the learning rate when improvement plateau's\n",
    "                   callbacks=[tf.keras.callbacks.EarlyStopping(monitor=\"val_loss\", patience=200, restore_best_weights=True),\n",
    "                              tf.keras.callbacks.ReduceLROnPlateau(monitor=\"val_loss\", patience=100, verbose=1)])\n",
    "\n",
    "    simple_model_preds = tf.squeeze(simple_model.predict(test_dataset))\n",
    "\n",
    "    # Append predictions with target loss function to dictionary\n",
    "    preds[loss_function] = simple_model_preds"
   ]
  },
  {
   "cell_type": "code",
   "execution_count": 115,
   "id": "9aa8952f",
   "metadata": {},
   "outputs": [
    {
     "data": {
      "text/plain": [
       "(3, 559)"
      ]
     },
     "execution_count": 115,
     "metadata": {},
     "output_type": "execute_result"
    }
   ],
   "source": [
    "ensemble_preds = np.array(list(preds.values()))\n",
    "ensemble_preds.shape"
   ]
  },
  {
   "cell_type": "code",
   "execution_count": 116,
   "id": "23a707cf",
   "metadata": {},
   "outputs": [
    {
     "data": {
      "text/plain": [
       "<tf.Tensor: shape=(10,), dtype=float32, numpy=\n",
       "array([ 557.4297  ,   48.763813,  706.8885  , 2682.2712  ,  598.5564  ,\n",
       "        247.56392 ,  366.52792 ,  663.2796  ,  117.44413 ,  473.8142  ],\n",
       "      dtype=float32)>"
      ]
     },
     "execution_count": 116,
     "metadata": {},
     "output_type": "execute_result"
    }
   ],
   "source": [
    "# Get the variance of different ensemble preds (these are how much predictions vary accross loss metrics)\n",
    "ensemble_var = tf.math.reduce_variance(ensemble_preds, axis=0)\n",
    "ensemble_var[:10]"
   ]
  },
  {
   "cell_type": "code",
   "execution_count": 117,
   "id": "e7f87849",
   "metadata": {},
   "outputs": [
    {
     "data": {
      "image/png": "[encoded data removed]",
      "text/plain": [
       "<Figure size 720x504 with 1 Axes>"
      ]
     },
     "metadata": {
      "needs_background": "light"
     },
     "output_type": "display_data"
    }
   ],
   "source": [
    "# Plot the variance/median of our ensemble preds\n",
    "ensemble_median = np.median(ensemble_preds, axis=0)\n",
    "\n",
    "offset=300\n",
    "plt.figure(figsize=(10, 7))\n",
    "plt.plot(X_test.index[offset:], y_test[offset:], \"g\", label=\"Test Data\")\n",
    "plt.plot(X_test.index[offset:], ensemble_median[offset:], \"k-\", label=\"Ensemble Preds\")\n",
    "plt.xlabel(\"Date\")\n",
    "plt.ylabel(\"BTC Price\")\n",
    "plt.fill_between(X_test.index[offset:], \n",
    "                 (ensemble_median-ensemble_var)[offset:], \n",
    "                 (ensemble_median+ensemble_var)[offset:], label=\"Prediction variance\")\n",
    "plt.legend(loc=\"upper left\", fontsize=14);"
   ]
  },
  {
   "cell_type": "markdown",
   "id": "1a4b1658",
   "metadata": {},
   "source": [
    "Making future forecast on models "
   ]
  },
  {
   "cell_type": "code",
   "execution_count": 118,
   "id": "42282282",
   "metadata": {},
   "outputs": [
    {
     "data": {
      "text/html": [
       "<div>\n",
       "<style scoped>\n",
       "    .dataframe tbody tr th:only-of-type {\n",
       "        vertical-align: middle;\n",
       "    }\n",
       "\n",
       "    .dataframe tbody tr th {\n",
       "        vertical-align: top;\n",
       "    }\n",
       "\n",
       "    .dataframe thead th {\n",
       "        text-align: right;\n",
       "    }\n",
       "</style>\n",
       "<table border=\"1\" class=\"dataframe\">\n",
       "  <thead>\n",
       "    <tr style=\"text-align: right;\">\n",
       "      <th></th>\n",
       "      <th>Price</th>\n",
       "      <th>block_reward</th>\n",
       "      <th>Price+1</th>\n",
       "      <th>Price+2</th>\n",
       "      <th>Price+3</th>\n",
       "      <th>Price+4</th>\n",
       "      <th>Price+5</th>\n",
       "      <th>Price+6</th>\n",
       "      <th>Price+7</th>\n",
       "    </tr>\n",
       "    <tr>\n",
       "      <th>Date</th>\n",
       "      <th></th>\n",
       "      <th></th>\n",
       "      <th></th>\n",
       "      <th></th>\n",
       "      <th></th>\n",
       "      <th></th>\n",
       "      <th></th>\n",
       "      <th></th>\n",
       "      <th></th>\n",
       "    </tr>\n",
       "  </thead>\n",
       "  <tbody>\n",
       "    <tr>\n",
       "      <th>2013-10-01</th>\n",
       "      <td>123.654990</td>\n",
       "      <td>25</td>\n",
       "      <td>NaN</td>\n",
       "      <td>NaN</td>\n",
       "      <td>NaN</td>\n",
       "      <td>NaN</td>\n",
       "      <td>NaN</td>\n",
       "      <td>NaN</td>\n",
       "      <td>NaN</td>\n",
       "    </tr>\n",
       "    <tr>\n",
       "      <th>2013-10-02</th>\n",
       "      <td>125.455000</td>\n",
       "      <td>25</td>\n",
       "      <td>123.654990</td>\n",
       "      <td>NaN</td>\n",
       "      <td>NaN</td>\n",
       "      <td>NaN</td>\n",
       "      <td>NaN</td>\n",
       "      <td>NaN</td>\n",
       "      <td>NaN</td>\n",
       "    </tr>\n",
       "    <tr>\n",
       "      <th>2013-10-03</th>\n",
       "      <td>108.584830</td>\n",
       "      <td>25</td>\n",
       "      <td>125.455000</td>\n",
       "      <td>123.654990</td>\n",
       "      <td>NaN</td>\n",
       "      <td>NaN</td>\n",
       "      <td>NaN</td>\n",
       "      <td>NaN</td>\n",
       "      <td>NaN</td>\n",
       "    </tr>\n",
       "    <tr>\n",
       "      <th>2013-10-04</th>\n",
       "      <td>118.674660</td>\n",
       "      <td>25</td>\n",
       "      <td>108.584830</td>\n",
       "      <td>125.455000</td>\n",
       "      <td>123.654990</td>\n",
       "      <td>NaN</td>\n",
       "      <td>NaN</td>\n",
       "      <td>NaN</td>\n",
       "      <td>NaN</td>\n",
       "    </tr>\n",
       "    <tr>\n",
       "      <th>2013-10-05</th>\n",
       "      <td>121.338660</td>\n",
       "      <td>25</td>\n",
       "      <td>118.674660</td>\n",
       "      <td>108.584830</td>\n",
       "      <td>125.455000</td>\n",
       "      <td>123.654990</td>\n",
       "      <td>NaN</td>\n",
       "      <td>NaN</td>\n",
       "      <td>NaN</td>\n",
       "    </tr>\n",
       "    <tr>\n",
       "      <th>...</th>\n",
       "      <td>...</td>\n",
       "      <td>...</td>\n",
       "      <td>...</td>\n",
       "      <td>...</td>\n",
       "      <td>...</td>\n",
       "      <td>...</td>\n",
       "      <td>...</td>\n",
       "      <td>...</td>\n",
       "      <td>...</td>\n",
       "    </tr>\n",
       "    <tr>\n",
       "      <th>2021-05-29</th>\n",
       "      <td>34898.008720</td>\n",
       "      <td>6.25</td>\n",
       "      <td>38717.769220</td>\n",
       "      <td>38915.004829</td>\n",
       "      <td>38290.448528</td>\n",
       "      <td>38085.789361</td>\n",
       "      <td>34259.548416</td>\n",
       "      <td>37490.941888</td>\n",
       "      <td>36921.767808</td>\n",
       "    </tr>\n",
       "    <tr>\n",
       "      <th>2021-05-30</th>\n",
       "      <td>34535.522468</td>\n",
       "      <td>6.25</td>\n",
       "      <td>34898.008720</td>\n",
       "      <td>38717.769220</td>\n",
       "      <td>38915.004829</td>\n",
       "      <td>38290.448528</td>\n",
       "      <td>38085.789361</td>\n",
       "      <td>34259.548416</td>\n",
       "      <td>37490.941888</td>\n",
       "    </tr>\n",
       "    <tr>\n",
       "      <th>2021-05-31</th>\n",
       "      <td>35749.655692</td>\n",
       "      <td>6.25</td>\n",
       "      <td>34535.522468</td>\n",
       "      <td>34898.008720</td>\n",
       "      <td>38717.769220</td>\n",
       "      <td>38915.004829</td>\n",
       "      <td>38290.448528</td>\n",
       "      <td>38085.789361</td>\n",
       "      <td>34259.548416</td>\n",
       "    </tr>\n",
       "    <tr>\n",
       "      <th>2021-06-01</th>\n",
       "      <td>36929.476740</td>\n",
       "      <td>6.25</td>\n",
       "      <td>35749.655692</td>\n",
       "      <td>34535.522468</td>\n",
       "      <td>34898.008720</td>\n",
       "      <td>38717.769220</td>\n",
       "      <td>38915.004829</td>\n",
       "      <td>38290.448528</td>\n",
       "      <td>38085.789361</td>\n",
       "    </tr>\n",
       "    <tr>\n",
       "      <th>2021-06-02</th>\n",
       "      <td>36419.749501</td>\n",
       "      <td>6.25</td>\n",
       "      <td>36929.476740</td>\n",
       "      <td>35749.655692</td>\n",
       "      <td>34535.522468</td>\n",
       "      <td>34898.008720</td>\n",
       "      <td>38717.769220</td>\n",
       "      <td>38915.004829</td>\n",
       "      <td>38290.448528</td>\n",
       "    </tr>\n",
       "  </tbody>\n",
       "</table>\n",
       "<p>2801 rows × 9 columns</p>\n",
       "</div>"
      ],
      "text/plain": [
       "                   Price block_reward       Price+1       Price+2  \\\n",
       "Date                                                                \n",
       "2013-10-01    123.654990           25           NaN           NaN   \n",
       "2013-10-02    125.455000           25    123.654990           NaN   \n",
       "2013-10-03    108.584830           25    125.455000    123.654990   \n",
       "2013-10-04    118.674660           25    108.584830    125.455000   \n",
       "2013-10-05    121.338660           25    118.674660    108.584830   \n",
       "...                  ...          ...           ...           ...   \n",
       "2021-05-29  34898.008720         6.25  38717.769220  38915.004829   \n",
       "2021-05-30  34535.522468         6.25  34898.008720  38717.769220   \n",
       "2021-05-31  35749.655692         6.25  34535.522468  34898.008720   \n",
       "2021-06-01  36929.476740         6.25  35749.655692  34535.522468   \n",
       "2021-06-02  36419.749501         6.25  36929.476740  35749.655692   \n",
       "\n",
       "                 Price+3       Price+4       Price+5       Price+6  \\\n",
       "Date                                                                 \n",
       "2013-10-01           NaN           NaN           NaN           NaN   \n",
       "2013-10-02           NaN           NaN           NaN           NaN   \n",
       "2013-10-03           NaN           NaN           NaN           NaN   \n",
       "2013-10-04    123.654990           NaN           NaN           NaN   \n",
       "2013-10-05    125.455000    123.654990           NaN           NaN   \n",
       "...                  ...           ...           ...           ...   \n",
       "2021-05-29  38290.448528  38085.789361  34259.548416  37490.941888   \n",
       "2021-05-30  38915.004829  38290.448528  38085.789361  34259.548416   \n",
       "2021-05-31  38717.769220  38915.004829  38290.448528  38085.789361   \n",
       "2021-06-01  34898.008720  38717.769220  38915.004829  38290.448528   \n",
       "2021-06-02  34535.522468  34898.008720  38717.769220  38915.004829   \n",
       "\n",
       "                 Price+7  \n",
       "Date                      \n",
       "2013-10-01           NaN  \n",
       "2013-10-02           NaN  \n",
       "2013-10-03           NaN  \n",
       "2013-10-04           NaN  \n",
       "2013-10-05           NaN  \n",
       "...                  ...  \n",
       "2021-05-29  36921.767808  \n",
       "2021-05-30  37490.941888  \n",
       "2021-05-31  34259.548416  \n",
       "2021-06-01  38085.789361  \n",
       "2021-06-02  38290.448528  \n",
       "\n",
       "[2801 rows x 9 columns]"
      ]
     },
     "execution_count": 118,
     "metadata": {},
     "output_type": "execute_result"
    }
   ],
   "source": [
    "bitcoin_prices_windowed"
   ]
  },
  {
   "cell_type": "code",
   "execution_count": 119,
   "id": "135bfcad",
   "metadata": {},
   "outputs": [],
   "source": [
    "# Train model on entire data to make prediction for the next day \n",
    "X_all = bitcoin_prices_windowed.drop([\"Price\", \"block_reward\"], axis=1).dropna().to_numpy()\n",
    "y_all = bitcoin_prices_windowed.dropna()[\"Price\"].to_numpy()"
   ]
  },
  {
   "cell_type": "code",
   "execution_count": 120,
   "id": "dfd0feb5",
   "metadata": {},
   "outputs": [
    {
     "name": "stdout",
     "output_type": "stream",
     "text": [
      "Epoch 1/10\n",
      "88/88 [==============================] - 1s 2ms/step - loss: 594.1995\n",
      "Epoch 2/10\n",
      "88/88 [==============================] - 0s 3ms/step - loss: 334.2740\n",
      "Epoch 3/10\n",
      "88/88 [==============================] - 0s 2ms/step - loss: 291.8546\n",
      "Epoch 4/10\n",
      "88/88 [==============================] - 0s 1ms/step - loss: 265.8689\n",
      "Epoch 5/10\n",
      "88/88 [==============================] - 0s 2ms/step - loss: 299.7154\n",
      "Epoch 6/10\n",
      "88/88 [==============================] - 0s 1ms/step - loss: 273.8899\n",
      "Epoch 7/10\n",
      "88/88 [==============================] - 0s 2ms/step - loss: 269.7777\n",
      "Epoch 8/10\n",
      "88/88 [==============================] - 0s 1ms/step - loss: 309.8934\n",
      "Epoch 9/10\n",
      "88/88 [==============================] - 0s 1ms/step - loss: 328.4095\n",
      "Epoch 10/10\n",
      "88/88 [==============================] - 0s 4ms/step - loss: 284.6776\n"
     ]
    },
    {
     "data": {
      "text/plain": [
       "<tensorflow.python.keras.callbacks.History at 0x16093b1f0>"
      ]
     },
     "execution_count": 120,
     "metadata": {},
     "output_type": "execute_result"
    }
   ],
   "source": [
    "#creating tensorflow windows for data\n",
    "tf.random.set_seed(42)\n",
    "\n",
    "# Create model (nice and simple, just to test)\n",
    "model_9 = tf.keras.Sequential([\n",
    "  layers.Dense(128, activation=\"relu\"),\n",
    "  layers.Dense(128, activation=\"relu\"),\n",
    "  layers.Dense(HORIZON)\n",
    "])\n",
    "\n",
    "# Compile\n",
    "model_9.compile(loss=tf.keras.losses.mae,\n",
    "                optimizer=tf.keras.optimizers.Adam())\n",
    "\n",
    "# Fit\n",
    "model_9.fit(X_all, y_all,\n",
    "            epochs=10)"
   ]
  },
  {
   "cell_type": "code",
   "execution_count": 121,
   "id": "72498d99",
   "metadata": {},
   "outputs": [
    {
     "name": "stdout",
     "output_type": "stream",
     "text": [
      "WARNING:tensorflow:6 out of the last 23 calls to <function Model.make_predict_function.<locals>.predict_function at 0x16093d5e0> triggered tf.function retracing. Tracing is expensive and the excessive number of tracings could be due to (1) creating @tf.function repeatedly in a loop, (2) passing tensors with different shapes, (3) passing Python objects instead of tensors. For (1), please define your @tf.function outside of the loop. For (2), @tf.function has experimental_relax_shapes=True option that relaxes argument shapes that can avoid unnecessary retracing. For (3), please refer to https://www.tensorflow.org/guide/function#controlling_retracing and https://www.tensorflow.org/api_docs/python/tf/function for  more details.\n",
      "Predicting on: \n",
      " [38915.0048286  38717.76921992 34898.00871956 34535.52246756\n",
      " 35749.65569214 36929.47673981 36419.74950068] -> Prediction: 39198.91796875\n",
      "\n",
      "Predicting on: \n",
      " [38717.76921992 34898.00871956 34535.52246756 35749.65569214\n",
      " 36929.47673981 36419.74950068 39198.91796875] -> Prediction: 37457.96875\n",
      "\n",
      "Predicting on: \n",
      " [34898.00871956 34535.52246756 35749.65569214 36929.47673981\n",
      " 36419.74950068 39198.91796875 37457.96875   ] -> Prediction: 35203.95703125\n",
      "\n",
      "Predicting on: \n",
      " [34535.52246756 35749.65569214 36929.47673981 36419.74950068\n",
      " 39198.91796875 37457.96875    35203.95703125] -> Prediction: 35418.0703125\n",
      "\n",
      "Predicting on: \n",
      " [35749.65569214 36929.47673981 36419.74950068 39198.91796875\n",
      " 37457.96875    35203.95703125 35418.0703125 ] -> Prediction: 36749.0234375\n",
      "\n",
      "Predicting on: \n",
      " [36929.47673981 36419.74950068 39198.91796875 37457.96875\n",
      " 35203.95703125 35418.0703125  36749.0234375 ] -> Prediction: 37478.47265625\n",
      "\n",
      "Predicting on: \n",
      " [36419.74950068 39198.91796875 37457.96875    35203.95703125\n",
      " 35418.0703125  36749.0234375  37478.47265625] -> Prediction: 37641.21484375\n",
      "\n",
      "Predicting on: \n",
      " [39198.91796875 37457.96875    35203.95703125 35418.0703125\n",
      " 36749.0234375  37478.47265625 37641.21484375] -> Prediction: 38909.81640625\n",
      "\n",
      "Predicting on: \n",
      " [37457.96875    35203.95703125 35418.0703125  36749.0234375\n",
      " 37478.47265625 37641.21484375 38909.81640625] -> Prediction: 36908.09375\n",
      "\n",
      "Predicting on: \n",
      " [35203.95703125 35418.0703125  36749.0234375  37478.47265625\n",
      " 37641.21484375 38909.81640625 36908.09375   ] -> Prediction: 35813.4375\n",
      "\n",
      "Predicting on: \n",
      " [35418.0703125  36749.0234375  37478.47265625 37641.21484375\n",
      " 38909.81640625 36908.09375    35813.4375    ] -> Prediction: 36380.3515625\n",
      "\n",
      "Predicting on: \n",
      " [36749.0234375  37478.47265625 37641.21484375 38909.81640625\n",
      " 36908.09375    35813.4375     36380.3515625 ] -> Prediction: 37635.1953125\n",
      "\n",
      "Predicting on: \n",
      " [37478.47265625 37641.21484375 38909.81640625 36908.09375\n",
      " 35813.4375     36380.3515625  37635.1953125 ] -> Prediction: 38105.36328125\n",
      "\n",
      "Predicting on: \n",
      " [37641.21484375 38909.81640625 36908.09375    35813.4375\n",
      " 36380.3515625  37635.1953125  38105.36328125] -> Prediction: 38375.890625\n",
      "\n"
     ]
    }
   ],
   "source": [
    "# Make predictions on the future\n",
    "\n",
    "# List for new preds\n",
    "future_forecast = []\n",
    "last_window = y_all[-WINDOW_SIZE:] # get the last window of the training data\n",
    "into_future = 14 # how far to predict into the future\n",
    "\n",
    "for i in range(into_future):\n",
    "    # Make a pred for the last window, then append the prediction, append it again, append it again\n",
    "    pred = model_9.predict(tf.expand_dims(last_window, axis=0))\n",
    "    print(f\"Predicting on: \\n {last_window} -> Prediction: {tf.squeeze(pred).numpy()}\\n\")\n",
    "    future_forecast.append(tf.squeeze(pred).numpy())\n",
    "    # Update last window with new pred and get WINDOW_SIZE most recent preds (model was trained on WINDOW_SIZE windows)\n",
    "    last_window = np.append(last_window, pred)[-WINDOW_SIZE:]"
   ]
  },
  {
   "cell_type": "code",
   "execution_count": 122,
   "id": "8e38d7ad",
   "metadata": {},
   "outputs": [
    {
     "data": {
      "text/plain": [
       "[39198.918,\n",
       " 37457.97,\n",
       " 35203.957,\n",
       " 35418.07,\n",
       " 36749.023,\n",
       " 37478.473,\n",
       " 37641.215,\n",
       " 38909.816,\n",
       " 36908.094,\n",
       " 35813.438]"
      ]
     },
     "execution_count": 122,
     "metadata": {},
     "output_type": "execute_result"
    }
   ],
   "source": [
    "future_forecast[:10]"
   ]
  },
  {
   "cell_type": "code",
   "execution_count": 123,
   "id": "da7f25e1",
   "metadata": {},
   "outputs": [
    {
     "data": {
      "text/plain": [
       "Timestamp('2021-06-02 00:00:00')"
      ]
     },
     "execution_count": 123,
     "metadata": {},
     "output_type": "execute_result"
    }
   ],
   "source": [
    "# Last timestep of timesteps (currently in np.datetime64 format)\n",
    "last_timestep = bitcoin_prices.index[-1]\n",
    "last_timestep"
   ]
  },
  {
   "cell_type": "code",
   "execution_count": 124,
   "id": "bbe94ca3",
   "metadata": {},
   "outputs": [],
   "source": [
    "def get_future_dates(start_date, horizon=1, offset=1):\n",
    "\n",
    "  #Returns array of datetime values from ranging from start_date to start_date+horizon.\n",
    "   return np.arange(start_date + np.timedelta64(offset, \"D\"), start_date + np.timedelta64(horizon+1, \"D\"), dtype=\"datetime64[D]\")"
   ]
  },
  {
   "cell_type": "code",
   "execution_count": 125,
   "id": "550bf70b",
   "metadata": {},
   "outputs": [
    {
     "data": {
      "text/plain": [
       "array(['2021-06-03', '2021-06-04', '2021-06-05', '2021-06-06',\n",
       "       '2021-06-07', '2021-06-08', '2021-06-09', '2021-06-10',\n",
       "       '2021-06-11', '2021-06-12', '2021-06-13', '2021-06-14',\n",
       "       '2021-06-15', '2021-06-16'], dtype='datetime64[D]')"
      ]
     },
     "execution_count": 125,
     "metadata": {},
     "output_type": "execute_result"
    }
   ],
   "source": [
    "# Get next two weeks of timesteps\n",
    "next_time_steps = get_future_dates(start_date=last_timestep, horizon=into_future)\n",
    "next_time_steps"
   ]
  },
  {
   "cell_type": "code",
   "execution_count": 131,
   "id": "135c1af8",
   "metadata": {},
   "outputs": [
    {
     "data": {
      "text/plain": [
       "(array(['2021-06-02', '2021-06-02', '2021-06-03', '2021-06-04',\n",
       "        '2021-06-05', '2021-06-06', '2021-06-07', '2021-06-08',\n",
       "        '2021-06-09', '2021-06-10', '2021-06-11', '2021-06-12',\n",
       "        '2021-06-13', '2021-06-14', '2021-06-15', '2021-06-16'],\n",
       "       dtype='datetime64[D]'),\n",
       " array([36419.75 , 39198.918, 37457.97 , 35203.957, 35418.07 , 36749.023,\n",
       "        37478.473, 37641.215, 38909.816, 36908.094, 35813.438, 36380.35 ,\n",
       "        37635.195, 38105.363, 38375.89 ], dtype=float32))"
      ]
     },
     "execution_count": 131,
     "metadata": {},
     "output_type": "execute_result"
    }
   ],
   "source": [
    "# Add in extra timestep/final price so the graph doesn't look messed\n",
    "next_time_steps = np.insert(next_time_steps, 0, last_timestep)\n",
    "future_forecast = np.insert(future_forecast, 0, btc_price[-1])\n",
    "next_time_steps, future_forecast"
   ]
  },
  {
   "cell_type": "code",
   "execution_count": 132,
   "id": "c1692045",
   "metadata": {},
   "outputs": [
    {
     "ename": "ValueError",
     "evalue": "x and y must have same first dimension, but have shapes (16,) and (15,)",
     "output_type": "error",
     "traceback": [
      "\u001b[0;31m---------------------------------------------------------------------------\u001b[0m",
      "\u001b[0;31mValueError\u001b[0m                                Traceback (most recent call last)",
      "\u001b[0;32m<ipython-input-132-4be7a3f30c79>\u001b[0m in \u001b[0;36m<module>\u001b[0;34m\u001b[0m\n\u001b[1;32m      2\u001b[0m \u001b[0mplt\u001b[0m\u001b[0;34m.\u001b[0m\u001b[0mfigure\u001b[0m\u001b[0;34m(\u001b[0m\u001b[0mfigsize\u001b[0m\u001b[0;34m=\u001b[0m\u001b[0;34m(\u001b[0m\u001b[0;36m10\u001b[0m\u001b[0;34m,\u001b[0m \u001b[0;36m7\u001b[0m\u001b[0;34m)\u001b[0m\u001b[0;34m)\u001b[0m\u001b[0;34m\u001b[0m\u001b[0;34m\u001b[0m\u001b[0m\n\u001b[1;32m      3\u001b[0m \u001b[0mplot_time_series\u001b[0m\u001b[0;34m(\u001b[0m\u001b[0mbitcoin_prices\u001b[0m\u001b[0;34m.\u001b[0m\u001b[0mindex\u001b[0m\u001b[0;34m,\u001b[0m \u001b[0mbtc_price\u001b[0m\u001b[0;34m,\u001b[0m \u001b[0mstart\u001b[0m\u001b[0;34m=\u001b[0m\u001b[0;36m2500\u001b[0m\u001b[0;34m,\u001b[0m \u001b[0mlabel\u001b[0m\u001b[0;34m=\u001b[0m\u001b[0;34m\"Actual BTC Price\"\u001b[0m\u001b[0;34m)\u001b[0m\u001b[0;34m\u001b[0m\u001b[0;34m\u001b[0m\u001b[0m\n\u001b[0;32m----> 4\u001b[0;31m \u001b[0mplot_time_series\u001b[0m\u001b[0;34m(\u001b[0m\u001b[0mnext_time_steps\u001b[0m\u001b[0;34m,\u001b[0m \u001b[0mfuture_forecast\u001b[0m\u001b[0;34m,\u001b[0m \u001b[0mlabel\u001b[0m\u001b[0;34m=\u001b[0m\u001b[0;34m\"Predicted BTC Price\"\u001b[0m\u001b[0;34m)\u001b[0m\u001b[0;34m\u001b[0m\u001b[0;34m\u001b[0m\u001b[0m\n\u001b[0m",
      "\u001b[0;32m<ipython-input-9-131b961c85a6>\u001b[0m in \u001b[0;36mplot_time_series\u001b[0;34m(timesteps, values, format, start, end, label)\u001b[0m\n\u001b[1;32m      2\u001b[0m \u001b[0;32mdef\u001b[0m \u001b[0mplot_time_series\u001b[0m\u001b[0;34m(\u001b[0m\u001b[0mtimesteps\u001b[0m\u001b[0;34m,\u001b[0m \u001b[0mvalues\u001b[0m\u001b[0;34m,\u001b[0m \u001b[0mformat\u001b[0m\u001b[0;34m=\u001b[0m\u001b[0;34m'.'\u001b[0m\u001b[0;34m,\u001b[0m \u001b[0mstart\u001b[0m\u001b[0;34m=\u001b[0m\u001b[0;36m0\u001b[0m\u001b[0;34m,\u001b[0m \u001b[0mend\u001b[0m\u001b[0;34m=\u001b[0m\u001b[0;32mNone\u001b[0m\u001b[0;34m,\u001b[0m \u001b[0mlabel\u001b[0m\u001b[0;34m=\u001b[0m\u001b[0;32mNone\u001b[0m\u001b[0;34m)\u001b[0m\u001b[0;34m:\u001b[0m\u001b[0;34m\u001b[0m\u001b[0;34m\u001b[0m\u001b[0m\n\u001b[1;32m      3\u001b[0m \u001b[0;34m\u001b[0m\u001b[0m\n\u001b[0;32m----> 4\u001b[0;31m     \u001b[0mplt\u001b[0m\u001b[0;34m.\u001b[0m\u001b[0mplot\u001b[0m\u001b[0;34m(\u001b[0m\u001b[0mtimesteps\u001b[0m\u001b[0;34m[\u001b[0m\u001b[0mstart\u001b[0m\u001b[0;34m:\u001b[0m\u001b[0mend\u001b[0m\u001b[0;34m]\u001b[0m\u001b[0;34m,\u001b[0m \u001b[0mvalues\u001b[0m\u001b[0;34m[\u001b[0m\u001b[0mstart\u001b[0m\u001b[0;34m:\u001b[0m\u001b[0mend\u001b[0m\u001b[0;34m]\u001b[0m\u001b[0;34m,\u001b[0m \u001b[0mformat\u001b[0m\u001b[0;34m,\u001b[0m \u001b[0mlabel\u001b[0m\u001b[0;34m=\u001b[0m\u001b[0mlabel\u001b[0m\u001b[0;34m)\u001b[0m\u001b[0;34m\u001b[0m\u001b[0;34m\u001b[0m\u001b[0m\n\u001b[0m\u001b[1;32m      5\u001b[0m     \u001b[0mplt\u001b[0m\u001b[0;34m.\u001b[0m\u001b[0mxlabel\u001b[0m\u001b[0;34m(\u001b[0m\u001b[0;34m\"Time\"\u001b[0m\u001b[0;34m)\u001b[0m\u001b[0;34m\u001b[0m\u001b[0;34m\u001b[0m\u001b[0m\n\u001b[1;32m      6\u001b[0m     \u001b[0mplt\u001b[0m\u001b[0;34m.\u001b[0m\u001b[0mylabel\u001b[0m\u001b[0;34m(\u001b[0m\u001b[0;34m\"BTC Price\"\u001b[0m\u001b[0;34m)\u001b[0m\u001b[0;34m\u001b[0m\u001b[0;34m\u001b[0m\u001b[0m\n",
      "\u001b[0;32m/usr/local/Cellar/jupyterlab/3.0.15_1/libexec/lib/python3.9/site-packages/matplotlib/pyplot.py\u001b[0m in \u001b[0;36mplot\u001b[0;34m(scalex, scaley, data, *args, **kwargs)\u001b[0m\n\u001b[1;32m   3017\u001b[0m \u001b[0;34m@\u001b[0m\u001b[0m_copy_docstring_and_deprecators\u001b[0m\u001b[0;34m(\u001b[0m\u001b[0mAxes\u001b[0m\u001b[0;34m.\u001b[0m\u001b[0mplot\u001b[0m\u001b[0;34m)\u001b[0m\u001b[0;34m\u001b[0m\u001b[0;34m\u001b[0m\u001b[0m\n\u001b[1;32m   3018\u001b[0m \u001b[0;32mdef\u001b[0m \u001b[0mplot\u001b[0m\u001b[0;34m(\u001b[0m\u001b[0;34m*\u001b[0m\u001b[0margs\u001b[0m\u001b[0;34m,\u001b[0m \u001b[0mscalex\u001b[0m\u001b[0;34m=\u001b[0m\u001b[0;32mTrue\u001b[0m\u001b[0;34m,\u001b[0m \u001b[0mscaley\u001b[0m\u001b[0;34m=\u001b[0m\u001b[0;32mTrue\u001b[0m\u001b[0;34m,\u001b[0m \u001b[0mdata\u001b[0m\u001b[0;34m=\u001b[0m\u001b[0;32mNone\u001b[0m\u001b[0;34m,\u001b[0m \u001b[0;34m**\u001b[0m\u001b[0mkwargs\u001b[0m\u001b[0;34m)\u001b[0m\u001b[0;34m:\u001b[0m\u001b[0;34m\u001b[0m\u001b[0;34m\u001b[0m\u001b[0m\n\u001b[0;32m-> 3019\u001b[0;31m     return gca().plot(\n\u001b[0m\u001b[1;32m   3020\u001b[0m         \u001b[0;34m*\u001b[0m\u001b[0margs\u001b[0m\u001b[0;34m,\u001b[0m \u001b[0mscalex\u001b[0m\u001b[0;34m=\u001b[0m\u001b[0mscalex\u001b[0m\u001b[0;34m,\u001b[0m \u001b[0mscaley\u001b[0m\u001b[0;34m=\u001b[0m\u001b[0mscaley\u001b[0m\u001b[0;34m,\u001b[0m\u001b[0;34m\u001b[0m\u001b[0;34m\u001b[0m\u001b[0m\n\u001b[1;32m   3021\u001b[0m         **({\"data\": data} if data is not None else {}), **kwargs)\n",
      "\u001b[0;32m/usr/local/Cellar/jupyterlab/3.0.15_1/libexec/lib/python3.9/site-packages/matplotlib/axes/_axes.py\u001b[0m in \u001b[0;36mplot\u001b[0;34m(self, scalex, scaley, data, *args, **kwargs)\u001b[0m\n\u001b[1;32m   1603\u001b[0m         \"\"\"\n\u001b[1;32m   1604\u001b[0m         \u001b[0mkwargs\u001b[0m \u001b[0;34m=\u001b[0m \u001b[0mcbook\u001b[0m\u001b[0;34m.\u001b[0m\u001b[0mnormalize_kwargs\u001b[0m\u001b[0;34m(\u001b[0m\u001b[0mkwargs\u001b[0m\u001b[0;34m,\u001b[0m \u001b[0mmlines\u001b[0m\u001b[0;34m.\u001b[0m\u001b[0mLine2D\u001b[0m\u001b[0;34m)\u001b[0m\u001b[0;34m\u001b[0m\u001b[0;34m\u001b[0m\u001b[0m\n\u001b[0;32m-> 1605\u001b[0;31m         \u001b[0mlines\u001b[0m \u001b[0;34m=\u001b[0m \u001b[0;34m[\u001b[0m\u001b[0;34m*\u001b[0m\u001b[0mself\u001b[0m\u001b[0;34m.\u001b[0m\u001b[0m_get_lines\u001b[0m\u001b[0;34m(\u001b[0m\u001b[0;34m*\u001b[0m\u001b[0margs\u001b[0m\u001b[0;34m,\u001b[0m \u001b[0mdata\u001b[0m\u001b[0;34m=\u001b[0m\u001b[0mdata\u001b[0m\u001b[0;34m,\u001b[0m \u001b[0;34m**\u001b[0m\u001b[0mkwargs\u001b[0m\u001b[0;34m)\u001b[0m\u001b[0;34m]\u001b[0m\u001b[0;34m\u001b[0m\u001b[0;34m\u001b[0m\u001b[0m\n\u001b[0m\u001b[1;32m   1606\u001b[0m         \u001b[0;32mfor\u001b[0m \u001b[0mline\u001b[0m \u001b[0;32min\u001b[0m \u001b[0mlines\u001b[0m\u001b[0;34m:\u001b[0m\u001b[0;34m\u001b[0m\u001b[0;34m\u001b[0m\u001b[0m\n\u001b[1;32m   1607\u001b[0m             \u001b[0mself\u001b[0m\u001b[0;34m.\u001b[0m\u001b[0madd_line\u001b[0m\u001b[0;34m(\u001b[0m\u001b[0mline\u001b[0m\u001b[0;34m)\u001b[0m\u001b[0;34m\u001b[0m\u001b[0;34m\u001b[0m\u001b[0m\n",
      "\u001b[0;32m/usr/local/Cellar/jupyterlab/3.0.15_1/libexec/lib/python3.9/site-packages/matplotlib/axes/_base.py\u001b[0m in \u001b[0;36m__call__\u001b[0;34m(self, data, *args, **kwargs)\u001b[0m\n\u001b[1;32m    313\u001b[0m                 \u001b[0mthis\u001b[0m \u001b[0;34m+=\u001b[0m \u001b[0margs\u001b[0m\u001b[0;34m[\u001b[0m\u001b[0;36m0\u001b[0m\u001b[0;34m]\u001b[0m\u001b[0;34m,\u001b[0m\u001b[0;34m\u001b[0m\u001b[0;34m\u001b[0m\u001b[0m\n\u001b[1;32m    314\u001b[0m                 \u001b[0margs\u001b[0m \u001b[0;34m=\u001b[0m \u001b[0margs\u001b[0m\u001b[0;34m[\u001b[0m\u001b[0;36m1\u001b[0m\u001b[0;34m:\u001b[0m\u001b[0;34m]\u001b[0m\u001b[0;34m\u001b[0m\u001b[0;34m\u001b[0m\u001b[0m\n\u001b[0;32m--> 315\u001b[0;31m             \u001b[0;32myield\u001b[0m \u001b[0;32mfrom\u001b[0m \u001b[0mself\u001b[0m\u001b[0;34m.\u001b[0m\u001b[0m_plot_args\u001b[0m\u001b[0;34m(\u001b[0m\u001b[0mthis\u001b[0m\u001b[0;34m,\u001b[0m \u001b[0mkwargs\u001b[0m\u001b[0;34m)\u001b[0m\u001b[0;34m\u001b[0m\u001b[0;34m\u001b[0m\u001b[0m\n\u001b[0m\u001b[1;32m    316\u001b[0m \u001b[0;34m\u001b[0m\u001b[0m\n\u001b[1;32m    317\u001b[0m     \u001b[0;32mdef\u001b[0m \u001b[0mget_next_color\u001b[0m\u001b[0;34m(\u001b[0m\u001b[0mself\u001b[0m\u001b[0;34m)\u001b[0m\u001b[0;34m:\u001b[0m\u001b[0;34m\u001b[0m\u001b[0;34m\u001b[0m\u001b[0m\n",
      "\u001b[0;32m/usr/local/Cellar/jupyterlab/3.0.15_1/libexec/lib/python3.9/site-packages/matplotlib/axes/_base.py\u001b[0m in \u001b[0;36m_plot_args\u001b[0;34m(self, tup, kwargs, return_kwargs)\u001b[0m\n\u001b[1;32m    499\u001b[0m \u001b[0;34m\u001b[0m\u001b[0m\n\u001b[1;32m    500\u001b[0m         \u001b[0;32mif\u001b[0m \u001b[0mx\u001b[0m\u001b[0;34m.\u001b[0m\u001b[0mshape\u001b[0m\u001b[0;34m[\u001b[0m\u001b[0;36m0\u001b[0m\u001b[0;34m]\u001b[0m \u001b[0;34m!=\u001b[0m \u001b[0my\u001b[0m\u001b[0;34m.\u001b[0m\u001b[0mshape\u001b[0m\u001b[0;34m[\u001b[0m\u001b[0;36m0\u001b[0m\u001b[0;34m]\u001b[0m\u001b[0;34m:\u001b[0m\u001b[0;34m\u001b[0m\u001b[0;34m\u001b[0m\u001b[0m\n\u001b[0;32m--> 501\u001b[0;31m             raise ValueError(f\"x and y must have same first dimension, but \"\n\u001b[0m\u001b[1;32m    502\u001b[0m                              f\"have shapes {x.shape} and {y.shape}\")\n\u001b[1;32m    503\u001b[0m         \u001b[0;32mif\u001b[0m \u001b[0mx\u001b[0m\u001b[0;34m.\u001b[0m\u001b[0mndim\u001b[0m \u001b[0;34m>\u001b[0m \u001b[0;36m2\u001b[0m \u001b[0;32mor\u001b[0m \u001b[0my\u001b[0m\u001b[0;34m.\u001b[0m\u001b[0mndim\u001b[0m \u001b[0;34m>\u001b[0m \u001b[0;36m2\u001b[0m\u001b[0;34m:\u001b[0m\u001b[0;34m\u001b[0m\u001b[0;34m\u001b[0m\u001b[0m\n",
      "\u001b[0;31mValueError\u001b[0m: x and y must have same first dimension, but have shapes (16,) and (15,)"
     ]
    },
    {
     "data": {
      "image/png": "[encoded data removed]",
      "text/plain": [
       "<Figure size 720x504 with 1 Axes>"
      ]
     },
     "metadata": {
      "needs_background": "light"
     },
     "output_type": "display_data"
    }
   ],
   "source": [
    "# TODO: if we predict far enough into the future we start to see what happens to our model's forecasts... (they begin to break down)\n",
    "plt.figure(figsize=(10, 7))\n",
    "plot_time_series(bitcoin_prices.index, btc_price, start=2500, label=\"Actual BTC Price\")\n",
    "plot_time_series(next_time_steps, future_forecast, label=\"Predicted BTC Price\")"
   ]
  },
  {
   "cell_type": "code",
   "execution_count": null,
   "id": "a089c7a1",
   "metadata": {},
   "outputs": [],
   "source": []
  }
 ],
 "metadata": {
  "kernelspec": {
   "display_name": "Python 3",
   "language": "python",
   "name": "python3"
  },
  "language_info": {
   "codemirror_mode": {
    "name": "ipython",
    "version": 3
   },
   "file_extension": ".py",
   "mimetype": "text/x-python",
   "name": "python",
   "nbconvert_exporter": "python",
   "pygments_lexer": "ipython3",
   "version": "3.9.5"
  }
 },
 "nbformat": 4,
 "nbformat_minor": 5
}
